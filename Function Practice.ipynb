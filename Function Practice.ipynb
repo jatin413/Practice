{
 "cells": [
  {
   "cell_type": "code",
   "execution_count": 7,
   "id": "36290c16",
   "metadata": {},
   "outputs": [],
   "source": [
    "def suml(l):\n",
    "    \n",
    "    m=0\n",
    "    for i in l:\n",
    "        m+=i\n",
    "    return m   "
   ]
  },
  {
   "cell_type": "code",
   "execution_count": null,
   "id": "27366d69",
   "metadata": {},
   "outputs": [],
   "source": []
  },
  {
   "cell_type": "code",
   "execution_count": 8,
   "id": "9de7cc95",
   "metadata": {},
   "outputs": [
    {
     "name": "stdout",
     "output_type": "stream",
     "text": [
      "20\n"
     ]
    }
   ],
   "source": [
    "print(suml((8, 2, 3, 0, 7)))"
   ]
  },
  {
   "cell_type": "code",
   "execution_count": 9,
   "id": "8dbc9234",
   "metadata": {},
   "outputs": [],
   "source": [
    "def fact(f):\n",
    "    fa=1\n",
    "    while f>=1:\n",
    "        fa*=f\n",
    "        f-=1\n",
    "    return fa    "
   ]
  },
  {
   "cell_type": "code",
   "execution_count": 10,
   "id": "2d0eb849",
   "metadata": {},
   "outputs": [
    {
     "data": {
      "text/plain": [
       "120"
      ]
     },
     "execution_count": 10,
     "metadata": {},
     "output_type": "execute_result"
    }
   ],
   "source": [
    "fact(5)"
   ]
  },
  {
   "cell_type": "code",
   "execution_count": 12,
   "id": "ffa7189d",
   "metadata": {},
   "outputs": [],
   "source": [
    "def rev(l):\n",
    "    \n",
    "    a=l[::-1]\n",
    "    return a"
   ]
  },
  {
   "cell_type": "code",
   "execution_count": 13,
   "id": "afe7fe13",
   "metadata": {},
   "outputs": [
    {
     "data": {
      "text/plain": [
       "'dsdf54'"
      ]
     },
     "execution_count": 13,
     "metadata": {},
     "output_type": "execute_result"
    }
   ],
   "source": [
    "rev('45fdsd')"
   ]
  },
  {
   "cell_type": "code",
   "execution_count": 17,
   "id": "02856c34",
   "metadata": {},
   "outputs": [],
   "source": [
    "def uni(l):\n",
    "    s=list(set(l))\n",
    "    return s\n"
   ]
  },
  {
   "cell_type": "code",
   "execution_count": 18,
   "id": "29a0037a",
   "metadata": {},
   "outputs": [
    {
     "data": {
      "text/plain": [
       "[1, 2, 3, 4, 5]"
      ]
     },
     "execution_count": 18,
     "metadata": {},
     "output_type": "execute_result"
    }
   ],
   "source": [
    "uni([1,2,3,3,3,3,4,5])"
   ]
  },
  {
   "cell_type": "code",
   "execution_count": 5,
   "id": "924f0900",
   "metadata": {},
   "outputs": [],
   "source": [
    "def sq():\n",
    "    for i in range(1,31):\n",
    "        j=i*i\n",
    "        print(j)\n",
    "        "
   ]
  },
  {
   "cell_type": "code",
   "execution_count": 6,
   "id": "753d2a62",
   "metadata": {},
   "outputs": [
    {
     "name": "stdout",
     "output_type": "stream",
     "text": [
      "1\n",
      "4\n",
      "9\n",
      "16\n",
      "25\n",
      "36\n",
      "49\n",
      "64\n",
      "81\n",
      "100\n",
      "121\n",
      "144\n",
      "169\n",
      "196\n",
      "225\n",
      "256\n",
      "289\n",
      "324\n",
      "361\n",
      "400\n",
      "441\n",
      "484\n",
      "529\n",
      "576\n",
      "625\n",
      "676\n",
      "729\n",
      "784\n",
      "841\n",
      "900\n"
     ]
    }
   ],
   "source": [
    "sq()"
   ]
  },
  {
   "cell_type": "code",
   "execution_count": 7,
   "id": "527ed153",
   "metadata": {},
   "outputs": [
    {
     "name": "stdout",
     "output_type": "stream",
     "text": [
      "6\n"
     ]
    }
   ],
   "source": [
    "code=\"\"\"\n",
    "def mult(x,y):\n",
    "    return x*y\n",
    "print(mult(2,3))\n",
    "\"\"\"\n",
    "exec(code)"
   ]
  },
  {
   "cell_type": "code",
   "execution_count": 16,
   "id": "532453fc",
   "metadata": {},
   "outputs": [],
   "source": [
    "def pascal_triangle(n):\n",
    "    trow=[1]\n",
    "    y=[0]\n",
    "    for x in range(max(n,0)):\n",
    "        print(trow)\n",
    "        trow=[l+r for l,r in zip(trow+y,y+trow)]\n",
    "    return n>=1\n"
   ]
  },
  {
   "cell_type": "code",
   "execution_count": 17,
   "id": "3b3d5196",
   "metadata": {},
   "outputs": [
    {
     "name": "stdout",
     "output_type": "stream",
     "text": [
      "[1]\n",
      "[1, 1]\n",
      "[1, 2, 1]\n",
      "[1, 3, 3, 1]\n",
      "[1, 4, 6, 4, 1]\n",
      "[1, 5, 10, 10, 5, 1]\n",
      "[1, 6, 15, 20, 15, 6, 1]\n",
      "[1, 7, 21, 35, 35, 21, 7, 1]\n"
     ]
    },
    {
     "data": {
      "text/plain": [
       "True"
      ]
     },
     "execution_count": 17,
     "metadata": {},
     "output_type": "execute_result"
    }
   ],
   "source": [
    "pascal_triangle(8)"
   ]
  },
  {
   "cell_type": "code",
   "execution_count": 18,
   "id": "6b8f6045",
   "metadata": {},
   "outputs": [],
   "source": [
    "import string, sys\n",
    "def ispangram(st, alphabet=string.ascii_lowercase):\n",
    "    alphaset=set(alphabet)\n",
    "    return alphaset <=set(st.lower())"
   ]
  },
  {
   "cell_type": "code",
   "execution_count": 19,
   "id": "6419fdda",
   "metadata": {},
   "outputs": [
    {
     "name": "stdout",
     "output_type": "stream",
     "text": [
      "True\n"
     ]
    }
   ],
   "source": [
    "print ( ispangram('The quick brown fox jumps over the lazy dog')) "
   ]
  },
  {
   "cell_type": "code",
   "execution_count": 21,
   "id": "2c363f97",
   "metadata": {},
   "outputs": [],
   "source": [
    "def test(a):\n",
    "    def add(b):\n",
    "        nonlocal a\n",
    "        a+=1\n",
    "    return add\n"
   ]
  },
  {
   "cell_type": "code",
   "execution_count": 22,
   "id": "19ac2fd8",
   "metadata": {},
   "outputs": [
    {
     "name": "stdout",
     "output_type": "stream",
     "text": [
      "None\n"
     ]
    }
   ],
   "source": [
    "func=test(4)\n",
    "print(func(4))"
   ]
  },
  {
   "cell_type": "code",
   "execution_count": 1,
   "id": "6db0c766",
   "metadata": {},
   "outputs": [
    {
     "name": "stdout",
     "output_type": "stream",
     "text": [
      "30\n"
     ]
    }
   ],
   "source": [
    "def func_compute(n):\n",
    "    return lambda x:x*n\n",
    "result= func_compute(2)\n",
    "print(result(15))"
   ]
  },
  {
   "cell_type": "code",
   "execution_count": 2,
   "id": "93f43637",
   "metadata": {},
   "outputs": [
    {
     "name": "stdout",
     "output_type": "stream",
     "text": [
      "[('eng', 88), ('math', 97), ('sci', 90), ('sst', 82)]\n",
      "sorted\n",
      "[('sst', 82), ('eng', 88), ('sci', 90), ('math', 97)]\n"
     ]
    }
   ],
   "source": [
    "s=[('eng',88),('math',97),('sci',90),('sst',82)]\n",
    "print(s)\n",
    "s.sort(key= lambda x: x[1])\n",
    "print('sorted')\n",
    "print(s)"
   ]
  },
  {
   "cell_type": "code",
   "execution_count": 6,
   "id": "8b00c413",
   "metadata": {},
   "outputs": [
    {
     "name": "stdout",
     "output_type": "stream",
     "text": [
      "[{'make': 'Nokia', 'model': 216, 'color': 'Black'}, {'make': 'Mi Max', 'model': '2', 'color': 'Gold'}, {'make': 'Samsung', 'model': 7, 'color': 'Blue'}]\n",
      "\n",
      "sorted:\n",
      "[{'make': 'Nokia', 'model': 216, 'color': 'Black'}, {'make': 'Samsung', 'model': 7, 'color': 'Blue'}, {'make': 'Mi Max', 'model': '2', 'color': 'Gold'}]\n"
     ]
    }
   ],
   "source": [
    "models = [{'make':'Nokia', 'model':216, 'color':'Black'}, {'make':'Mi Max', 'model':'2', 'color':'Gold'}, {'make':'Samsung', 'model': 7, 'color':'Blue'}]\n",
    "print(models)\n",
    "sorted_models=sorted(models, key= lambda x:x['color'])\n",
    "print('\\nsorted:')\n",
    "print(sorted_models)"
   ]
  },
  {
   "cell_type": "code",
   "execution_count": 8,
   "id": "9eb5feca",
   "metadata": {},
   "outputs": [
    {
     "name": "stdout",
     "output_type": "stream",
     "text": [
      "[1, 2, 3, 4, 5, 6, 7, 8, 9, 10]\n",
      "\n",
      "even\n",
      "[2, 4, 6, 8, 10]\n",
      "\n",
      "odd:\n",
      "[1, 3, 5, 7, 9]\n"
     ]
    }
   ],
   "source": [
    "o=[1,2,3,4,5,6,7,8,9,10]\n",
    "print(o)\n",
    "print('\\neven')\n",
    "even=list(filter(lambda x:x%2==0,o))\n",
    "print(even)\n",
    "odd=list(filter(lambda x:x%2!=0,o))\n",
    "print('\\nodd:')\n",
    "print(odd)"
   ]
  },
  {
   "cell_type": "code",
   "execution_count": 10,
   "id": "a9f8f2d0",
   "metadata": {},
   "outputs": [
    {
     "name": "stdout",
     "output_type": "stream",
     "text": [
      "\n",
      "sq: [1, 4, 9, 16, 25, 36, 49, 64, 81, 100]\n",
      "\n",
      "cube: [1, 8, 27, 64, 125, 216, 343, 512, 729, 1000]\n"
     ]
    }
   ],
   "source": [
    "o=[1,2,3,4,5,6,7,8,9,10]\n",
    "sq=list(map(lambda x:x**2,o))\n",
    "print('\\nsq:',sq)\n",
    "cu=list(map(lambda x:x*x*x,o))\n",
    "print('\\ncube:',cu)"
   ]
  },
  {
   "cell_type": "code",
   "execution_count": 12,
   "id": "d73e5829",
   "metadata": {},
   "outputs": [
    {
     "name": "stdout",
     "output_type": "stream",
     "text": [
      "True\n"
     ]
    }
   ],
   "source": [
    "start_with=lambda x: True if x.startswith('P') else False\n",
    "print(start_with('Python'))"
   ]
  },
  {
   "cell_type": "code",
   "execution_count": 17,
   "id": "75d8bc8e",
   "metadata": {},
   "outputs": [
    {
     "name": "stdout",
     "output_type": "stream",
     "text": [
      "2022\n",
      "8\n",
      "23\n",
      "09:22:23.461904\n"
     ]
    }
   ],
   "source": [
    "import datetime\n",
    "now= datetime.datetime.now()\n",
    "y=lambda x:x.year\n",
    "m=lambda x:x.month\n",
    "d=lambda x:x.day\n",
    "t=lambda x:x.time()\n",
    "print(y(now))\n",
    "print(m(now))\n",
    "print(d(now))\n",
    "print(t(now))"
   ]
  },
  {
   "cell_type": "code",
   "execution_count": null,
   "id": "07e43317",
   "metadata": {},
   "outputs": [],
   "source": []
  },
  {
   "cell_type": "code",
   "execution_count": 16,
   "id": "2feeda48",
   "metadata": {},
   "outputs": [
    {
     "name": "stdout",
     "output_type": "stream",
     "text": [
      "2022-08-23 09:21:58.818409\n",
      "2022\n",
      "8\n",
      "23\n",
      "09:21:58.818409\n"
     ]
    }
   ],
   "source": [
    "import datetime\n",
    "now = datetime.datetime.now()\n",
    "print(now)\n",
    "year = lambda x: x.year\n",
    "month = lambda x: x.month\n",
    "day = lambda x: x.day\n",
    "t = lambda x: x.time()\n",
    "print(year(now))\n",
    "print(month(now))\n",
    "print(day(now))\n",
    "print(t(now))\n"
   ]
  },
  {
   "cell_type": "code",
   "execution_count": 22,
   "id": "a1aa5fde",
   "metadata": {},
   "outputs": [],
   "source": [
    "is_num= lambda q: q.replace('.','',1).isdigit()\n",
    "is_num1= lambda r:is_num(r[1:]) if r[0]==\"-\" else is_num[r]"
   ]
  },
  {
   "cell_type": "code",
   "execution_count": 23,
   "id": "81dd1150",
   "metadata": {},
   "outputs": [
    {
     "name": "stdout",
     "output_type": "stream",
     "text": [
      "True\n"
     ]
    }
   ],
   "source": [
    "print(is_num1('-20.56'))"
   ]
  },
  {
   "cell_type": "code",
   "execution_count": 28,
   "id": "eb5aaf85",
   "metadata": {},
   "outputs": [],
   "source": [
    "from functools import reduce \n",
    "fib_series=lambda n: reduce(lambda x,_: x+[x[-1]+x[-2]],range(n-2),[0,1])"
   ]
  },
  {
   "cell_type": "code",
   "execution_count": 29,
   "id": "fa31b76b",
   "metadata": {},
   "outputs": [
    {
     "name": "stdout",
     "output_type": "stream",
     "text": [
      "[0, 1, 1, 2, 3]\n"
     ]
    }
   ],
   "source": [
    "print(fib_series(5))"
   ]
  },
  {
   "cell_type": "code",
   "execution_count": 26,
   "id": "4427dad6",
   "metadata": {},
   "outputs": [],
   "source": [
    "fib_series = lambda n: reduce(lambda x, _: x+[x[-1]+x[-2]],\n",
    "                                range(n-2), [0, 1])"
   ]
  },
  {
   "cell_type": "code",
   "execution_count": 30,
   "id": "19cb03ed",
   "metadata": {},
   "outputs": [
    {
     "name": "stdout",
     "output_type": "stream",
     "text": [
      "[1, 2, 8, 9]\n"
     ]
    }
   ],
   "source": [
    "l = [1, 2, 3, 5, 7, 8, 9, 10]\n",
    "n = [1, 2, 4, 8, 9]\n",
    "result=list(filter(lambda x: x in l,n))\n",
    "print(result)"
   ]
  },
  {
   "cell_type": "code",
   "execution_count": 1,
   "id": "83ca4c61",
   "metadata": {},
   "outputs": [
    {
     "name": "stdout",
     "output_type": "stream",
     "text": [
      "[19, 65, 57, 39, 152, 190]\n"
     ]
    }
   ],
   "source": [
    "x=[19, 65, 57, 39, 152, 639, 121, 44, 90, 190]\n",
    "r = list(filter(lambda i:(i%19==0 or i%13 ==0),x))\n",
    "print(r)"
   ]
  },
  {
   "cell_type": "code",
   "execution_count": 3,
   "id": "a59e7194",
   "metadata": {},
   "outputs": [
    {
     "name": "stdout",
     "output_type": "stream",
     "text": [
      "['php', 'aaa', 'nitin']\n"
     ]
    }
   ],
   "source": [
    "x=['php', 'w3r', 'Python', 'abcd', 'Java', 'aaa','nitin']\n",
    "r= list(filter(lambda i: (i==i[::-1]),x))\n",
    "print(r)"
   ]
  },
  {
   "cell_type": "code",
   "execution_count": 7,
   "id": "bafeb862",
   "metadata": {},
   "outputs": [],
   "source": [
    "from collections import Counter"
   ]
  },
  {
   "cell_type": "code",
   "execution_count": 11,
   "id": "cce20ab8",
   "metadata": {},
   "outputs": [
    {
     "name": "stdout",
     "output_type": "stream",
     "text": [
      "['bcda', 'cbda', 'adcb']\n"
     ]
    }
   ],
   "source": [
    "\n",
    "x=['bcda', 'abce', 'cbda', 'cbea', 'adcb']\n",
    "s='abcd'\n",
    "r=list(filter(lambda i:(Counter(s)==Counter(i)),x))\n",
    "print(r)"
   ]
  },
  {
   "cell_type": "code",
   "execution_count": 10,
   "id": "124dd607",
   "metadata": {},
   "outputs": [
    {
     "name": "stdout",
     "output_type": "stream",
     "text": [
      "Orginal list of strings:\n",
      "['bcda', 'abce', 'cbda', 'cbea', 'adcb']\n",
      "\n",
      "Anagrams of 'abcd' in the above string: \n",
      "['bcda', 'cbda', 'adcb']\n"
     ]
    }
   ],
   "source": [
    "from collections import Counter  \n",
    "texts = [\"bcda\", \"abce\", \"cbda\", \"cbea\", \"adcb\"]\n",
    "str = \"abcd\"\n",
    "print(\"Orginal list of strings:\")\n",
    "print(texts) \n",
    "result = list(filter(lambda x: (Counter(str) == Counter(x)), texts)) \n",
    "print(\"\\nAnagrams of 'abcd' in the above string: \")\n",
    "print(result)\n"
   ]
  },
  {
   "cell_type": "code",
   "execution_count": 13,
   "id": "8007e184",
   "metadata": {},
   "outputs": [
    {
     "name": "stdout",
     "output_type": "stream",
     "text": [
      "5\n",
      "[10, 20, 30, 45, 55]\n"
     ]
    }
   ],
   "source": [
    "num=[2, 4, 6, 9, 11]\n",
    "n=int(input())\n",
    "r=list(map(lambda x:x*n,num))\n",
    "print(r)"
   ]
  },
  {
   "cell_type": "markdown",
   "id": "5024f5e3",
   "metadata": {},
   "source": [
    "20. Write a Python program to find the numbers of a given string and store them in a list, display the numbers which are bigger than the length of the list in sorted form. Use lambda function to solve the problem. Go to the editor\n",
    "Original string: sdf 23 safs8 5 sdfsd8 sdfs 56 21sfs 20 5\n",
    "Numbers in sorted form:\n",
    "20 23 56"
   ]
  },
  {
   "cell_type": "code",
   "execution_count": 16,
   "id": "f261908b",
   "metadata": {},
   "outputs": [
    {
     "name": "stdout",
     "output_type": "stream",
     "text": [
      "20 23 56 "
     ]
    }
   ],
   "source": [
    "str1='sdf 23 safs8 5 sdfsd8 sdfs 56 21sfs 20 5'\n",
    "str_num=[i for i in str1.split(' ')]\n",
    "length=len(str_num)\n",
    "no=sorted([int(x)for x in str_num if x.isdigit()])\n",
    "for i in ((filter(lambda x:x >length,no))):\n",
    "    print(i, end=' ')\n"
   ]
  },
  {
   "cell_type": "code",
   "execution_count": 17,
   "id": "2b7ae9c5",
   "metadata": {},
   "outputs": [
    {
     "name": "stdout",
     "output_type": "stream",
     "text": [
      "3\n"
     ]
    }
   ],
   "source": [
    "names=['Jatin','Nitin','Milan','dadu','sikha']\n",
    "r=list(filter(lambda x: x[0].isupper() and x[1].islower(),names))\n",
    "print(len(r))"
   ]
  }
 ],
 "metadata": {
  "kernelspec": {
   "display_name": "Python 3 (ipykernel)",
   "language": "python",
   "name": "python3"
  },
  "language_info": {
   "codemirror_mode": {
    "name": "ipython",
    "version": 3
   },
   "file_extension": ".py",
   "mimetype": "text/x-python",
   "name": "python",
   "nbconvert_exporter": "python",
   "pygments_lexer": "ipython3",
   "version": "3.9.7"
  }
 },
 "nbformat": 4,
 "nbformat_minor": 5
}
