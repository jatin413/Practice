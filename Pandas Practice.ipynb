{
 "cells": [
  {
   "cell_type": "code",
   "execution_count": 2,
   "id": "ca704021",
   "metadata": {},
   "outputs": [],
   "source": [
    "import pandas as pd"
   ]
  },
  {
   "cell_type": "code",
   "execution_count": 3,
   "id": "80df2681",
   "metadata": {},
   "outputs": [
    {
     "name": "stdout",
     "output_type": "stream",
     "text": [
      "0      2\n",
      "1      3\n",
      "2    500\n",
      "dtype: int64\n"
     ]
    }
   ],
   "source": [
    "d=pd.Series([2,3,500])\n",
    "print(d)"
   ]
  },
  {
   "cell_type": "code",
   "execution_count": 6,
   "id": "e76a8ac3",
   "metadata": {},
   "outputs": [
    {
     "name": "stdout",
     "output_type": "stream",
     "text": [
      "<class 'list'>\n"
     ]
    },
    {
     "data": {
      "text/plain": [
       "pandas.core.series.Series"
      ]
     },
     "execution_count": 6,
     "metadata": {},
     "output_type": "execute_result"
    }
   ],
   "source": [
    "print(type(d.tolist()))\n",
    "type(d)"
   ]
  },
  {
   "cell_type": "code",
   "execution_count": 7,
   "id": "23fb0c28",
   "metadata": {},
   "outputs": [
    {
     "name": "stdout",
     "output_type": "stream",
     "text": [
      "0     3\n",
      "1    11\n",
      "2    10\n",
      "dtype: int64\n",
      "0   -1\n",
      "1   -7\n",
      "2   -4\n",
      "dtype: int64\n",
      "0     2\n",
      "1    18\n",
      "2    21\n",
      "dtype: int64\n",
      "0    0.500000\n",
      "1    0.222222\n",
      "2    0.428571\n",
      "dtype: float64\n"
     ]
    }
   ],
   "source": [
    "a=pd.Series([1,2,3])\n",
    "b=pd.Series([2,9,7])\n",
    "print(a+b)\n",
    "print(a-b)\n",
    "print(a*b)\n",
    "print(a/b)"
   ]
  },
  {
   "cell_type": "code",
   "execution_count": 8,
   "id": "8d5c9804",
   "metadata": {},
   "outputs": [
    {
     "name": "stdout",
     "output_type": "stream",
     "text": [
      "0    False\n",
      "1    False\n",
      "2    False\n",
      "dtype: bool\n"
     ]
    }
   ],
   "source": [
    "a=pd.Series([1,2,3])\n",
    "b=pd.Series([2,9,7])\n",
    "print(a==b)"
   ]
  },
  {
   "cell_type": "code",
   "execution_count": 10,
   "id": "fc2a566c",
   "metadata": {},
   "outputs": [
    {
     "name": "stdout",
     "output_type": "stream",
     "text": [
      "{'a': 100, 'b': 200, 'c': 300, 'd': 400, 'e': 800}\n",
      "a    100\n",
      "b    200\n",
      "c    300\n",
      "d    400\n",
      "e    800\n",
      "dtype: int64\n",
      "<class 'dict'>\n",
      "<class 'NoneType'>\n"
     ]
    }
   ],
   "source": [
    "a={'a': 100, 'b': 200, 'c': 300, 'd': 400, 'e': 800}\n",
    "print(a)\n",
    "b=print(pd.Series(a))\n",
    "print(type(a))\n",
    "print(type(b))"
   ]
  },
  {
   "cell_type": "code",
   "execution_count": 12,
   "id": "52b89d1e",
   "metadata": {},
   "outputs": [
    {
     "name": "stdout",
     "output_type": "stream",
     "text": [
      "[10 20 30 40 50]\n",
      "0    10\n",
      "1    20\n",
      "2    30\n",
      "3    40\n",
      "4    50\n",
      "dtype: int32\n"
     ]
    }
   ],
   "source": [
    "import numpy as np\n",
    "a=np.array([10,20, 30 ,40, 50])\n",
    "b=pd.Series(a)\n",
    "print(a)\n",
    "print(b)"
   ]
  },
  {
   "cell_type": "code",
   "execution_count": 13,
   "id": "2e800d79",
   "metadata": {},
   "outputs": [
    {
     "name": "stdout",
     "output_type": "stream",
     "text": [
      "0       100\n",
      "1       200\n",
      "2    python\n",
      "3    300.12\n",
      "4       400\n",
      "dtype: object\n",
      "0    100.00\n",
      "1    200.00\n",
      "2       NaN\n",
      "3    300.12\n",
      "4    400.00\n",
      "dtype: float64\n"
     ]
    }
   ],
   "source": [
    "a=pd.Series([100,200,'python',300.12,400])\n",
    "print(a)\n",
    "b=pd.to_numeric(a,errors='coerce')\n",
    "print(b)"
   ]
  },
  {
   "cell_type": "code",
   "execution_count": 19,
   "id": "91196302",
   "metadata": {},
   "outputs": [
    {
     "name": "stdout",
     "output_type": "stream",
     "text": [
      "0    1\n",
      "1    2\n",
      "2    3\n",
      "Name: col1, dtype: int64\n",
      "<class 'pandas.core.series.Series'>\n"
     ]
    }
   ],
   "source": [
    "a={'col1':[1,2,3],'col2':[4,5,6],'col3':[7,8,9]}\n",
    "df=pd.DataFrame(data=a)\n",
    "c = df.iloc[:,0]\n",
    "print(c)\n",
    "print(type(c))"
   ]
  },
  {
   "cell_type": "code",
   "execution_count": 20,
   "id": "2623aaf0",
   "metadata": {},
   "outputs": [
    {
     "name": "stdout",
     "output_type": "stream",
     "text": [
      "0       100\n",
      "1       200\n",
      "2    python\n",
      "3    300.12\n",
      "4       400\n",
      "dtype: object\n",
      "[100 200 'python' 300.12 400]\n"
     ]
    }
   ],
   "source": [
    "# 9. Write a Pandas program to convert a given Series to an array.\n",
    "a=pd.Series([100,200,'python',300.12,400])\n",
    "print(a)\n",
    "b=np.array(a)\n",
    "print(b)"
   ]
  },
  {
   "cell_type": "code",
   "execution_count": 21,
   "id": "6a7b384d",
   "metadata": {},
   "outputs": [
    {
     "name": "stdout",
     "output_type": "stream",
     "text": [
      "0       Red\n",
      "1     Green\n",
      "2     White\n",
      "3       Red\n",
      "4     Black\n",
      "5    Yellow\n",
      "dtype: object\n"
     ]
    }
   ],
   "source": [
    "# 10. Write a Pandas program to convert Series of lists to one Series. Go to the editor\n",
    "# Sample Output:\n",
    "# Original Series of list\n",
    "# 0 [Red, Green, White]\n",
    "# 1 [Red, Black]\n",
    "# 2 [Yellow]\n",
    "# dtype: object\n",
    "# One Series\n",
    "# 0 Red\n",
    "# 1 Green\n",
    "# 2 White\n",
    "# 3 Red\n",
    "# 4 Black\n",
    "# 5 Yellow\n",
    "# dtype: object\n",
    "a=pd.Series([['Red','Green','White'],['Red','Black'],['Yellow']])\n",
    "a=a.apply(pd.Series).stack().reset_index(drop=True)\n",
    "print(a)"
   ]
  },
  {
   "cell_type": "code",
   "execution_count": 25,
   "id": "686b5b23",
   "metadata": {},
   "outputs": [
    {
     "name": "stdout",
     "output_type": "stream",
     "text": [
      "0       100\n",
      "1       200\n",
      "3    300.12\n",
      "4       400\n",
      "2    python\n",
      "dtype: object\n"
     ]
    }
   ],
   "source": [
    "# 11. Write a Pandas program to sort a given Series. Go to the editor\n",
    "# Sample Output:\n",
    "# Original Data Series: 0 100\n",
    "# 1 200\n",
    "# 2 python\n",
    "# 3 300.12\n",
    "# 4 400\n",
    "# dtype: object\n",
    "# 0 100\n",
    "# 1 200\n",
    "# 3 300.12\n",
    "# 4 400\n",
    "# 2 python\n",
    "# dtype: object\n",
    "a=pd.Series(['100','200','python','300.12','400'])\n",
    "b=pd.Series(a).sort_values()\n",
    "print(b)"
   ]
  },
  {
   "cell_type": "code",
   "execution_count": 24,
   "id": "10339e82",
   "metadata": {},
   "outputs": [
    {
     "name": "stdout",
     "output_type": "stream",
     "text": [
      "Original Data Series:\n",
      "0       100\n",
      "1       200\n",
      "2    python\n",
      "3    300.12\n",
      "4       400\n",
      "dtype: object\n",
      "0       100\n",
      "1       200\n",
      "3    300.12\n",
      "4       400\n",
      "2    python\n",
      "dtype: object\n"
     ]
    }
   ],
   "source": [
    "import pandas as pd\n",
    "s = pd.Series(['100', '200', 'python', '300.12', '400'])\n",
    "print(\"Original Data Series:\")\n",
    "print(s)\n",
    "new_s = pd.Series(s).sort_values()\n",
    "print(new_s)\n"
   ]
  },
  {
   "cell_type": "code",
   "execution_count": 26,
   "id": "12173b60",
   "metadata": {},
   "outputs": [
    {
     "name": "stdout",
     "output_type": "stream",
     "text": [
      "0       100\n",
      "1       200\n",
      "2    python\n",
      "3    300.12\n",
      "4       400\n",
      "0       500\n",
      "1       ppp\n",
      "dtype: object\n"
     ]
    }
   ],
   "source": [
    "# Write a Pandas program to add some data to an existing Series.\n",
    "s = pd.Series(['100', '200', 'python', '300.12', '400'])\n",
    "a=s.append(pd.Series(['500','ppp']))\n",
    "print(a)"
   ]
  },
  {
   "cell_type": "code",
   "execution_count": 28,
   "id": "34e53a4e",
   "metadata": {},
   "outputs": [
    {
     "name": "stdout",
     "output_type": "stream",
     "text": [
      "3    3\n",
      "dtype: int64\n"
     ]
    }
   ],
   "source": [
    "# Write a Pandas program to create a subset of a given series based on value and condition.\n",
    "a=pd.Series([0,1,2,3])\n",
    "n=2\n",
    "s=a[a>n]\n",
    "print(s)"
   ]
  },
  {
   "cell_type": "code",
   "execution_count": 29,
   "id": "e65ca804",
   "metadata": {},
   "outputs": [
    {
     "name": "stdout",
     "output_type": "stream",
     "text": [
      "d    4\n",
      "c    3\n",
      "a    1\n",
      "b    2\n",
      "dtype: int64\n"
     ]
    }
   ],
   "source": [
    "# Write a Pandas program to change the order of index of a given series.\n",
    "a=pd.Series(data=[1,2,3,4], index=['a','b','c','d'])\n",
    "a=a.reindex(index=['d','c','a','b'])\n",
    "print(a)"
   ]
  },
  {
   "cell_type": "code",
   "execution_count": 30,
   "id": "f691a7a9",
   "metadata": {},
   "outputs": [
    {
     "name": "stdout",
     "output_type": "stream",
     "text": [
      "1.5\n",
      "1.2909944487358056\n"
     ]
    }
   ],
   "source": [
    "# Write a Pandas program to create the mean and standard deviation of the data of a given Series.\n",
    "a=pd.Series([0,1,2,3])\n",
    "print(a.mean())\n",
    "print(a.std())"
   ]
  },
  {
   "cell_type": "code",
   "execution_count": 33,
   "id": "f5f4a4c4",
   "metadata": {},
   "outputs": [
    {
     "name": "stdout",
     "output_type": "stream",
     "text": [
      "Common\n",
      "1    2\n",
      "2    5\n",
      "dtype: int64\n",
      "uncomon use ~\n",
      "0    1\n",
      "dtype: int64\n"
     ]
    }
   ],
   "source": [
    "# Write a Pandas program to get the items of a given series not present in another given series.\n",
    "s1=pd.Series([1,2,5])\n",
    "s2=pd.Series([5,6,2])\n",
    "print('Common')\n",
    "print(s1[s1.isin(s2)])\n",
    "print('uncomon use ~')\n",
    "print(s1[~s1.isin(s2)])"
   ]
  },
  {
   "cell_type": "code",
   "execution_count": 38,
   "id": "7b6dea35",
   "metadata": {},
   "outputs": [
    {
     "name": "stdout",
     "output_type": "stream",
     "text": [
      "0      6.500469\n",
      "1     10.685361\n",
      "2     12.306072\n",
      "3      9.495128\n",
      "4     11.962642\n",
      "5     11.028438\n",
      "6     10.442359\n",
      "7      7.859913\n",
      "8      9.621008\n",
      "9     10.510003\n",
      "10     9.083946\n",
      "11    10.870327\n",
      "12     8.832810\n",
      "13    11.633694\n",
      "14    11.345442\n",
      "15     9.791178\n",
      "16     8.937439\n",
      "17    12.059465\n",
      "18     9.123729\n",
      "19     7.763364\n",
      "dtype: float64\n",
      "[ 6.50046905  9.04731933 10.11676853 11.10768866 12.30607161]\n"
     ]
    }
   ],
   "source": [
    "# Write a Pandas program to compute the minimum, 25th percentile, median, 75th, and maximum of a given series.\n",
    "a=np.random.RandomState(100)\n",
    "b=pd.Series(a.normal(10,2,20))\n",
    "print(b)\n",
    "r=np.percentile(b, q=[0,25,50,75,100])\n",
    "print((r))\n"
   ]
  },
  {
   "cell_type": "code",
   "execution_count": 45,
   "id": "04bd4f54",
   "metadata": {},
   "outputs": [
    {
     "name": "stdout",
     "output_type": "stream",
     "text": [
      "0     7\n",
      "1     8\n",
      "2     6\n",
      "3     3\n",
      "4     5\n",
      "5     6\n",
      "6     9\n",
      "7     3\n",
      "8     4\n",
      "9     3\n",
      "10    8\n",
      "11    6\n",
      "12    5\n",
      "13    6\n",
      "14    2\n",
      "15    9\n",
      "16    9\n",
      "17    5\n",
      "18    9\n",
      "19    8\n",
      "20    5\n",
      "21    3\n",
      "22    2\n",
      "23    5\n",
      "24    7\n",
      "25    2\n",
      "26    7\n",
      "27    8\n",
      "28    3\n",
      "29    5\n",
      "30    7\n",
      "31    3\n",
      "32    6\n",
      "33    3\n",
      "34    9\n",
      "35    7\n",
      "36    3\n",
      "37    9\n",
      "38    3\n",
      "39    8\n",
      "dtype: object\n",
      "3    9\n",
      "5    6\n",
      "9    6\n",
      "7    5\n",
      "8    5\n",
      "6    5\n",
      "2    3\n",
      "4    1\n",
      "dtype: int64\n"
     ]
    }
   ],
   "source": [
    "# Write a Pandas program to calculate the frequency counts of each unique value of a given series.\n",
    "n=pd.Series(np.take(list('0123456789'),np.random.randint(1,10,size=40)))\n",
    "print(n)\n",
    "r=n.value_counts()\n",
    "print(r)"
   ]
  },
  {
   "cell_type": "code",
   "execution_count": 51,
   "id": "ef23a869",
   "metadata": {},
   "outputs": [
    {
     "name": "stdout",
     "output_type": "stream",
     "text": [
      "0     2\n",
      "1     3\n",
      "2     4\n",
      "3     1\n",
      "4     4\n",
      "5     2\n",
      "6     3\n",
      "7     1\n",
      "8     4\n",
      "9     2\n",
      "10    4\n",
      "11    1\n",
      "12    4\n",
      "13    4\n",
      "14    1\n",
      "dtype: int32\n",
      "top 2:  4    6\n",
      "1    4\n",
      "2    3\n",
      "3    2\n",
      "dtype: int64\n",
      "0     other\n",
      "1     other\n",
      "2         4\n",
      "3     other\n",
      "4         4\n",
      "5     other\n",
      "6     other\n",
      "7     other\n",
      "8         4\n",
      "9     other\n",
      "10        4\n",
      "11    other\n",
      "12        4\n",
      "13        4\n",
      "14    other\n",
      "dtype: object\n"
     ]
    }
   ],
   "source": [
    "# Write a Pandas program to display most frequent value in a given series and replace everything else as ‘Other’ in the series.\n",
    "np.random.RandomState(100)\n",
    "n=pd.Series(np.random.randint(1,5,[15]))\n",
    "print(n)\n",
    "print('top 2: ',n.value_counts())\n",
    "r=n[~n.isin(n.value_counts().index[:1])]='other'\n",
    "print(n)\n"
   ]
  },
  {
   "cell_type": "code",
   "execution_count": 53,
   "id": "70c5ad94",
   "metadata": {},
   "outputs": [
    {
     "data": {
      "text/plain": [
       "2     4\n",
       "4     4\n",
       "8     4\n",
       "10    4\n",
       "12    4\n",
       "13    4\n",
       "dtype: object"
      ]
     },
     "execution_count": 53,
     "metadata": {},
     "output_type": "execute_result"
    }
   ],
   "source": [
    "n[~n.isin(n.value_counts().index[:1])]"
   ]
  },
  {
   "cell_type": "code",
   "execution_count": 57,
   "id": "0f97abe2",
   "metadata": {},
   "outputs": [
    {
     "name": "stdout",
     "output_type": "stream",
     "text": [
      "0    3\n",
      "1    5\n",
      "2    9\n",
      "3    6\n",
      "4    2\n",
      "5    3\n",
      "6    2\n",
      "7    9\n",
      "8    3\n",
      "dtype: int32\n",
      "[array([1], dtype=int64)]\n"
     ]
    }
   ],
   "source": [
    "n=pd.Series(np.random.randint(1,10,9))\n",
    "print(n)\n",
    "r=list(np.where(n%5==0))\n",
    "print(r)"
   ]
  },
  {
   "cell_type": "code",
   "execution_count": 58,
   "id": "99eee2f5",
   "metadata": {},
   "outputs": [
    {
     "name": "stdout",
     "output_type": "stream",
     "text": [
      "0     2\n",
      "2     5\n",
      "11    5\n",
      "dtype: object\n"
     ]
    }
   ],
   "source": [
    "n=pd.Series(list('24567812369554785555'))\n",
    "pos=[0,2,11]\n",
    "r=n.take(pos)\n",
    "print(r)"
   ]
  },
  {
   "cell_type": "code",
   "execution_count": 60,
   "id": "5687185a",
   "metadata": {
    "scrolled": true
   },
   "outputs": [
    {
     "name": "stdout",
     "output_type": "stream",
     "text": [
      "[0, 2, 4, 6, 9]\n"
     ]
    }
   ],
   "source": [
    "n = pd.Series([1, 2, 3, 4, 5, 6, 7, 8, 9, 10])\n",
    "pos = pd.Series([1, 3, 5, 7, 10])\n",
    "r=[pd.Index(n).get_loc(i)for i in pos]\n",
    "print(r)"
   ]
  },
  {
   "cell_type": "code",
   "execution_count": 61,
   "id": "765f257b",
   "metadata": {
    "scrolled": true
   },
   "outputs": [
    {
     "name": "stdout",
     "output_type": "stream",
     "text": [
      "0       PhP\n",
      "1    PythoN\n",
      "2      JavA\n",
      "3        C#\n",
      "dtype: object\n"
     ]
    }
   ],
   "source": [
    "series1 = pd.Series(['php', 'python', 'java', 'c#'])\n",
    "r=series1.map(lambda x: x[0].upper()+x[1:-1]+x[-1].upper())\n",
    "print(r)"
   ]
  },
  {
   "cell_type": "code",
   "execution_count": 64,
   "id": "a9bfbe09",
   "metadata": {},
   "outputs": [
    {
     "name": "stdout",
     "output_type": "stream",
     "text": [
      "0    3\n",
      "1    6\n",
      "2    4\n",
      "3    2\n",
      "dtype: int64\n"
     ]
    }
   ],
   "source": [
    "series1 = pd.Series(['php', 'python', 'java', 'c#'])\n",
    "r=series1.map(lambda x:len(x))\n",
    "print(r)"
   ]
  },
  {
   "cell_type": "code",
   "execution_count": 66,
   "id": "f20fd32f",
   "metadata": {},
   "outputs": [
    {
     "name": "stdout",
     "output_type": "stream",
     "text": [
      "[nan, 2.0, 2.0, 3.0, 2.0, 1.0, 4.0]\n",
      "[nan, nan, 0.0, 1.0, -1.0, -1.0, 3.0]\n"
     ]
    }
   ],
   "source": [
    "series1 = pd.Series([1, 3, 5, 8, 10, 11, 15])\n",
    "print(series1.diff().tolist())\n",
    "print(series1.diff().diff().tolist())"
   ]
  },
  {
   "cell_type": "code",
   "execution_count": 67,
   "id": "e0a927e0",
   "metadata": {},
   "outputs": [
    {
     "name": "stdout",
     "output_type": "stream",
     "text": [
      "0   2015-01-01 00:00:00\n",
      "1   2016-10-02 00:00:00\n",
      "2   2018-03-07 00:00:00\n",
      "3   2014-05-06 00:00:00\n",
      "4   2016-04-12 00:00:00\n",
      "5   2019-04-06 11:20:00\n",
      "dtype: datetime64[ns]\n"
     ]
    }
   ],
   "source": [
    "date_series = pd.Series(['01 Jan 2015', '10-02-2016', '20180307', '2014/05/06', '2016-04-12', '2019-04-06T11:20'])\n",
    "print(pd.to_datetime(date_series))"
   ]
  },
  {
   "cell_type": "code",
   "execution_count": 72,
   "id": "2b4776a4",
   "metadata": {
    "scrolled": true
   },
   "outputs": [
    {
     "name": "stdout",
     "output_type": "stream",
     "text": [
      "[1, 2, 7, 6, 12, 6]\n",
      "[1, 276, 66, 126, 103, 96]\n",
      "[1, 39, 10, 19, 15, 14]\n",
      "['Thursday', 'Sunday', 'Wednesday', 'Tuesday', 'Tuesday', 'Saturday']\n"
     ]
    },
    {
     "name": "stderr",
     "output_type": "stream",
     "text": [
      "C:\\Users\\ADMINI~1\\AppData\\Local\\Temp/ipykernel_10448/2501105181.py:6: FutureWarning: Series.dt.weekofyear and Series.dt.week have been deprecated.  Please use Series.dt.isocalendar().week instead.\n",
      "  print(date_series.dt.weekofyear.tolist())\n"
     ]
    }
   ],
   "source": [
    "from dateutil.parser import parse\n",
    "date_series = pd.Series(['01 Jan 2015', '10-02-2016', '20180307', '2014/05/06', '2016-04-12', '2019-04-06T11:20'])\n",
    "date_series=date_series.map(lambda x:parse(x))\n",
    "print(date_series.dt.day.tolist())\n",
    "print(date_series.dt.dayofyear.tolist())\n",
    "print(date_series.dt.weekofyear.tolist())\n",
    "print(date_series.dt.day_name().tolist())"
   ]
  },
  {
   "cell_type": "code",
   "execution_count": 73,
   "id": "2a8c93da",
   "metadata": {},
   "outputs": [
    {
     "name": "stdout",
     "output_type": "stream",
     "text": [
      "0   2015-01-02\n",
      "1   2016-02-02\n",
      "2   2017-03-02\n",
      "3   2018-04-02\n",
      "4   2019-05-02\n",
      "dtype: datetime64[ns]\n"
     ]
    }
   ],
   "source": [
    "date_series = pd.Series(['Jan 2015', 'Feb 2016', 'Mar 2017', 'Apr 2018', 'May 2019'])\n",
    "r=date_series.map(lambda x:parse('2'+x))\n",
    "print(r)"
   ]
  },
  {
   "cell_type": "markdown",
   "id": "0d062e21",
   "metadata": {},
   "source": [
    "TILL QESTION 29"
   ]
  }
 ],
 "metadata": {
  "kernelspec": {
   "display_name": "Python 3 (ipykernel)",
   "language": "python",
   "name": "python3"
  },
  "language_info": {
   "codemirror_mode": {
    "name": "ipython",
    "version": 3
   },
   "file_extension": ".py",
   "mimetype": "text/x-python",
   "name": "python",
   "nbconvert_exporter": "python",
   "pygments_lexer": "ipython3",
   "version": "3.9.7"
  }
 },
 "nbformat": 4,
 "nbformat_minor": 5
}
