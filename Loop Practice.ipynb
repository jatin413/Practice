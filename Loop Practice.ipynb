{
 "cells": [
  {
   "cell_type": "code",
   "execution_count": 2,
   "id": "40f2c1ee",
   "metadata": {},
   "outputs": [
    {
     "name": "stdout",
     "output_type": "stream",
     "text": [
      "1505,1540,1575,1610,1645,1680,1715,1750,1785,1820,1855,1890,1925,1960,1995,2030,2065,2100,2135,2170,2205,2240,2275,2310,2345,2380,2415,2450,2485,2520,2555,2590,2625,2660,2695\n"
     ]
    }
   ],
   "source": [
    "a=[]\n",
    "for i in range(1500,2701):\n",
    "    if (i%7==0) and (i%5==0):\n",
    "        a.append(str(i))\n",
    "        \n",
    "print(','.join(a))        "
   ]
  },
  {
   "cell_type": "code",
   "execution_count": 5,
   "id": "6c420b6c",
   "metadata": {},
   "outputs": [
    {
     "name": "stdout",
     "output_type": "stream",
     "text": [
      "5F\n",
      "-15 C\n"
     ]
    }
   ],
   "source": [
    "t=input()\n",
    "d=int(t[:-1])\n",
    "con=t[-1]\n",
    "if con.upper()=='C':\n",
    "    result=int(round((9*d)/5+32))\n",
    "    o_con='F'\n",
    "elif  con.upper()=='F':\n",
    "    result=int(round((d-32)*5/9))\n",
    "    o_con='C'\n",
    "else:\n",
    "    print('Improper Format')\n",
    "    quit()\n",
    "print(result, o_con)    "
   ]
  },
  {
   "cell_type": "code",
   "execution_count": 2,
   "id": "48311412",
   "metadata": {},
   "outputs": [
    {
     "name": "stdout",
     "output_type": "stream",
     "text": [
      "3\n",
      "7\n",
      "8\n",
      "8\n",
      "6\n",
      "5\n",
      "1\n",
      "2\n",
      "3\n",
      "5\n",
      "6\n",
      "6\n",
      "7\n",
      "8\n",
      "9\n",
      "well guess!\n"
     ]
    }
   ],
   "source": [
    "import random\n",
    "t,g=random.randint(0,10),0\n",
    "while t!=g:\n",
    "    g=int(input())\n",
    "print('well guess!')    "
   ]
  },
  {
   "cell_type": "code",
   "execution_count": 4,
   "id": "71405f9f",
   "metadata": {},
   "outputs": [
    {
     "name": "stdout",
     "output_type": "stream",
     "text": [
      "5\n",
      "5\n",
      "55\n",
      "555\n",
      "5555\n",
      "55555\n",
      "4\n",
      "54\n",
      "554\n",
      "5554\n",
      "55554\n"
     ]
    }
   ],
   "source": [
    "n=input()\n",
    "for i in range(1,6):\n",
    "    print(n*i)\n",
    "for i in range(1,6):\n",
    "    print(int(n*i)-1)\n",
    "    \n",
    "    "
   ]
  },
  {
   "cell_type": "code",
   "execution_count": 12,
   "id": "ea9971c4",
   "metadata": {},
   "outputs": [
    {
     "name": "stdout",
     "output_type": "stream",
     "text": [
      "*\n",
      "**\n",
      "***\n",
      "****\n",
      "*****\n",
      "******\n",
      "******\n",
      "*****\n",
      "****\n",
      "***\n",
      "**\n",
      "*\n"
     ]
    }
   ],
   "source": [
    "r=6\n",
    "for i in range(r):\n",
    "    for j in range(i+1):\n",
    "        print('*',end='')\n",
    "    print()         \n",
    "for i in range(r):\n",
    "    for j in range(r-i):\n",
    "        print('*',end='')\n",
    "    print()    \n",
    "       "
   ]
  },
  {
   "cell_type": "code",
   "execution_count": 13,
   "id": "a1a03372",
   "metadata": {},
   "outputs": [
    {
     "name": "stdout",
     "output_type": "stream",
     "text": [
      "*\n",
      "**\n",
      "***\n",
      "****\n",
      "*****\n",
      "******\n",
      "******\n",
      "*****\n",
      "****\n",
      "***\n",
      "**\n",
      "*\n"
     ]
    }
   ],
   "source": [
    "r=6\n",
    "for i in range(r):       #row\n",
    "    for j in range(i+1):     #column\n",
    "        print('*',end='')\n",
    "    print()         \n",
    "for i in range(r,0,-1):     #row\n",
    "    for j in range(i):      #column\n",
    "        print('*',end='')\n",
    "    print()  "
   ]
  },
  {
   "cell_type": "code",
   "execution_count": 14,
   "id": "370af2da",
   "metadata": {},
   "outputs": [],
   "source": [
    "def reverse():\n",
    "    a= input()\n",
    "    a1=a[::-1]\n",
    "    return a1"
   ]
  },
  {
   "cell_type": "code",
   "execution_count": 15,
   "id": "4b53078c",
   "metadata": {},
   "outputs": [
    {
     "name": "stdout",
     "output_type": "stream",
     "text": [
      "jatin\n"
     ]
    },
    {
     "data": {
      "text/plain": [
       "'nitaj'"
      ]
     },
     "execution_count": 15,
     "metadata": {},
     "output_type": "execute_result"
    }
   ],
   "source": [
    "reverse()"
   ]
  },
  {
   "cell_type": "code",
   "execution_count": 18,
   "id": "71609bb6",
   "metadata": {},
   "outputs": [
    {
     "name": "stdout",
     "output_type": "stream",
     "text": [
      "jatin\n",
      "n4i3t2a1j0\n"
     ]
    }
   ],
   "source": [
    "c=input()\n",
    "for char in range(len(c)-1,-1,-1):\n",
    "    print(c[char],end='')\n",
    "    print(char,end='')\n",
    "print()    "
   ]
  },
  {
   "cell_type": "code",
   "execution_count": 21,
   "id": "09cd8def",
   "metadata": {},
   "outputs": [
    {
     "name": "stdout",
     "output_type": "stream",
     "text": [
      "4\n",
      "5\n"
     ]
    }
   ],
   "source": [
    "n=[1,2,3,4,5,6,7,8,9]\n",
    "even =0\n",
    "odd=0\n",
    "for i in n:\n",
    "    if i%2==0:\n",
    "        even+=1\n",
    "    else:\n",
    "        odd+=1\n",
    "print(even)\n",
    "print(odd)"
   ]
  },
  {
   "cell_type": "code",
   "execution_count": 25,
   "id": "9de56bc7",
   "metadata": {},
   "outputs": [
    {
     "name": "stdout",
     "output_type": "stream",
     "text": [
      "1 2 3 5 8 13 21 34 55 89 144 233 377 610 987 1597 2584 4181 6765 10946 17711 28657 46368 75025 121393 196418 317811 514229 832040 1346269 2178309 3524578 5702887 9227465 14930352 24157817 39088169 63245986 102334155 165580141 267914296 433494437 701408733 1134903170 1836311903 2971215073 4807526976 7778742049 12586269025 20365011074 32951280099 "
     ]
    }
   ],
   "source": [
    "n=51\n",
    "n1,n2=0,1\n",
    "for i in range(0,n):\n",
    "    n3=n1+n2\n",
    "    n1=n2\n",
    "    n2=n3\n",
    "    print(n3, end=' ')"
   ]
  },
  {
   "cell_type": "code",
   "execution_count": 30,
   "id": "37e67747",
   "metadata": {},
   "outputs": [
    {
     "name": "stdout",
     "output_type": "stream",
     "text": [
      "1 2 4 8 16 32 "
     ]
    }
   ],
   "source": [
    "\n",
    "n1,n2=0,1\n",
    "while n2<50:\n",
    "    print(n2, end=' ')\n",
    "    n1=n2\n",
    "    n2=n1+n2\n",
    "    "
   ]
  },
  {
   "cell_type": "code",
   "execution_count": 32,
   "id": "0783a0fe",
   "metadata": {},
   "outputs": [
    {
     "name": "stdout",
     "output_type": "stream",
     "text": [
      "fizzbuzz\n",
      "1\n",
      "2\n",
      "fizz\n",
      "4\n",
      "buzz\n",
      "fizz\n",
      "7\n",
      "8\n",
      "fizz\n",
      "buzz\n",
      "11\n",
      "fizz\n",
      "13\n",
      "14\n",
      "fizzbuzz\n",
      "16\n",
      "17\n",
      "fizz\n",
      "19\n",
      "buzz\n",
      "fizz\n",
      "22\n",
      "23\n",
      "fizz\n",
      "buzz\n",
      "26\n",
      "fizz\n",
      "28\n",
      "29\n",
      "fizzbuzz\n",
      "31\n",
      "32\n",
      "fizz\n",
      "34\n",
      "buzz\n",
      "fizz\n",
      "37\n",
      "38\n",
      "fizz\n",
      "buzz\n",
      "41\n",
      "fizz\n",
      "43\n",
      "44\n",
      "fizzbuzz\n",
      "46\n",
      "47\n",
      "fizz\n",
      "49\n",
      "buzz\n"
     ]
    }
   ],
   "source": [
    "for i in range(51):\n",
    "    if (i%3==0 and i%5==0):\n",
    "        print('fizzbuzz')\n",
    "        continue\n",
    "    elif i %3==0:\n",
    "        print('fizz')\n",
    "        continue\n",
    "    elif i%5==0:\n",
    "        print('buzz')\n",
    "        continue\n",
    "    \n",
    "    print(i)    "
   ]
  },
  {
   "cell_type": "code",
   "execution_count": 35,
   "id": "422b8623",
   "metadata": {},
   "outputs": [
    {
     "name": "stdout",
     "output_type": "stream",
     "text": [
      "[100, 102, 104, 106, 108, 110, 112, 114, 116, 118, 120, 122, 124, 126, 128, 130, 132, 134, 136, 138, 140, 142, 144, 146, 148, 150, 152, 154, 156, 158, 160, 162, 164, 166, 168, 170, 172, 174, 176, 178, 180, 182, 184, 186, 188, 190, 192, 194, 196, 198, 200, 202, 204, 206, 208, 210, 212, 214, 216, 218, 220, 222, 224, 226, 228, 230, 232, 234, 236, 238, 240, 242, 244, 246, 248, 250, 252, 254, 256, 258, 260, 262, 264, 266, 268, 270, 272, 274, 276, 278, 280, 282, 284, 286, 288, 290, 292, 294, 296, 298, 300, 302, 304, 306, 308, 310, 312, 314, 316, 318, 320, 322, 324, 326, 328, 330, 332, 334, 336, 338, 340, 342, 344, 346, 348, 350, 352, 354, 356, 358, 360, 362, 364, 366, 368, 370, 372, 374, 376, 378, 380, 382, 384, 386, 388, 390, 392, 394, 396, 398, 400]\n"
     ]
    }
   ],
   "source": [
    "p=[]\n",
    "for i in range(100,401):\n",
    "    if i%2==0:\n",
    "        p.append(i)\n",
    "        \n",
    "print(p)        "
   ]
  },
  {
   "cell_type": "code",
   "execution_count": 36,
   "id": "d8df0989",
   "metadata": {},
   "outputs": [
    {
     "name": "stdout",
     "output_type": "stream",
     "text": [
      "200,202,204,206,208,220,222,224,226,228,240,242,244,246,248,260,262,264,266,268,280,282,284,286,288,400\n"
     ]
    }
   ],
   "source": [
    "items = []\n",
    "for i in range(100, 401):\n",
    "    s = str(i)\n",
    "    if (int(s[0])%2==0) and (int(s[1])%2==0) and (int(s[2])%2==0):\n",
    "        items.append(s)\n",
    "print( \",\".join(items))"
   ]
  },
  {
   "cell_type": "code",
   "execution_count": 3,
   "id": "e8c9ebad",
   "metadata": {},
   "outputs": [
    {
     "name": "stdout",
     "output_type": "stream",
     "text": [
      "**** \n",
      "*   *\n",
      "*   *\n",
      "*   *\n",
      "*   *\n",
      "*   *\n",
      "**** \n"
     ]
    }
   ],
   "source": [
    "for r in range(7):\n",
    "    for c in range(5):\n",
    "        if (c==0) or (c==4 and (r!=0 and r!=6)) or ((r==0 or r==6) and (c>0 and c<4)):\n",
    "            print('*', end='')\n",
    "        else:\n",
    "            print(end=' ')\n",
    "    print()        "
   ]
  },
  {
   "cell_type": "code",
   "execution_count": 8,
   "id": "3b3f2012",
   "metadata": {},
   "outputs": [
    {
     "name": "stdout",
     "output_type": "stream",
     "text": [
      "*****\n",
      "*    \n",
      "*    \n",
      "**** \n",
      "*    \n",
      "*    \n",
      "*****\n"
     ]
    }
   ],
   "source": [
    "for r in range(7):\n",
    "    for c in range(5):\n",
    "        if c==0 or((r==0 or r==6)and c>0) or (r==3  and (c!=0 and c!=4)):\n",
    "            print('*', end='')\n",
    "        else:\n",
    "            print(end=' ')\n",
    "    print()        "
   ]
  },
  {
   "cell_type": "code",
   "execution_count": 9,
   "id": "8817827d",
   "metadata": {},
   "outputs": [
    {
     "name": "stdout",
     "output_type": "stream",
     "text": [
      "*****\n",
      "*   *\n",
      "*    \n",
      "* ***\n",
      "*   *\n",
      "*   *\n",
      " *** \n"
     ]
    }
   ],
   "source": [
    "for r in range(7):\n",
    "    for c in range(5):\n",
    "        if (c==0 and (r>0 and r<6)) or (r==0 or r==6 and (c!=0 and c!=4)) or (r==3 and(c==2 or c==3)) or (c==4 and (r>2 and r<6)) or (r==1 and c==4):\n",
    "            print('*', end='')\n",
    "        else:\n",
    "            print(end=' ')\n",
    "    print()        "
   ]
  },
  {
   "cell_type": "code",
   "execution_count": 12,
   "id": "b72c1acc",
   "metadata": {},
   "outputs": [
    {
     "name": "stdout",
     "output_type": "stream",
     "text": [
      "*    \n",
      "*    \n",
      "*    \n",
      "*    \n",
      "*    \n",
      "*    \n",
      "*****\n"
     ]
    }
   ],
   "source": [
    "for r in range(7):\n",
    "    for c in range(5):\n",
    "        if c==0 or (r==6 and c!=0):\n",
    "            print('*', end='')\n",
    "        else:\n",
    "            print(end=' ')\n",
    "    print()            "
   ]
  },
  {
   "cell_type": "code",
   "execution_count": 20,
   "id": "9c9f0f8a",
   "metadata": {},
   "outputs": [
    {
     "name": "stdout",
     "output_type": "stream",
     "text": [
      "73\n"
     ]
    }
   ],
   "source": [
    "hdog=15\n",
    "ddog=0\n",
    "for i in range(hdog):\n",
    "    if i<=2:\n",
    "        ddog=hdog*10.5\n",
    "    else:\n",
    "        ddog=21+(hdog-2)*4\n",
    "print(ddog)"
   ]
  },
  {
   "cell_type": "code",
   "execution_count": 21,
   "id": "418f0670",
   "metadata": {},
   "outputs": [],
   "source": [
    "def dogage(hdog):\n",
    "    ddog=0\n",
    "    for i in range(hdog):\n",
    "        if i<=2:\n",
    "            ddog=hdog*10.5\n",
    "        else:\n",
    "            ddog=21+(hdog-2)*4\n",
    "    return ddog       "
   ]
  },
  {
   "cell_type": "code",
   "execution_count": 24,
   "id": "73eeb893",
   "metadata": {},
   "outputs": [
    {
     "data": {
      "text/plain": [
       "41"
      ]
     },
     "execution_count": 24,
     "metadata": {},
     "output_type": "execute_result"
    }
   ],
   "source": [
    "dogage(7)"
   ]
  },
  {
   "cell_type": "code",
   "execution_count": 30,
   "id": "33f62cf5",
   "metadata": {},
   "outputs": [
    {
     "name": "stdout",
     "output_type": "stream",
     "text": [
      "10\n",
      "1010\n",
      "101010\n",
      "10101010\n",
      "1010101010\n",
      "101010101010\n",
      "10101010101010\n",
      "1010101010101010\n",
      "101010101010101010\n"
     ]
    }
   ],
   "source": [
    "\n",
    "for r in range(10):\n",
    "    print(str(r)*r)       "
   ]
  },
  {
   "cell_type": "code",
   "execution_count": 31,
   "id": "d690dd15",
   "metadata": {},
   "outputs": [
    {
     "name": "stdout",
     "output_type": "stream",
     "text": [
      "\n",
      "1\n",
      "22\n",
      "333\n",
      "4444\n",
      "55555\n",
      "666666\n",
      "7777777\n",
      "88888888\n",
      "999999999\n"
     ]
    }
   ],
   "source": [
    "for i in range(10):\n",
    "    print(str(i) * i)"
   ]
  }
 ],
 "metadata": {
  "kernelspec": {
   "display_name": "Python 3 (ipykernel)",
   "language": "python",
   "name": "python3"
  },
  "language_info": {
   "codemirror_mode": {
    "name": "ipython",
    "version": 3
   },
   "file_extension": ".py",
   "mimetype": "text/x-python",
   "name": "python",
   "nbconvert_exporter": "python",
   "pygments_lexer": "ipython3",
   "version": "3.9.7"
  }
 },
 "nbformat": 4,
 "nbformat_minor": 5
}
