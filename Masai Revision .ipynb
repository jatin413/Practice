{
 "cells": [
  {
   "cell_type": "code",
   "execution_count": 2,
   "id": "17d9df9b",
   "metadata": {},
   "outputs": [
    {
     "name": "stdout",
     "output_type": "stream",
     "text": [
      "5\n",
      "0 2 0 6 9\n",
      "0\n"
     ]
    }
   ],
   "source": [
    "def occ(n,arr):\n",
    "    mc=0\n",
    "    freq=0\n",
    "    for i in range(0,n):\n",
    "        count=0\n",
    "        for j in range(0,n):\n",
    "            if (arr[i]==arr[j]):\n",
    "                count+=1\n",
    "        if (count>mc):\n",
    "            mc=count\n",
    "            freq=arr[i]\n",
    "            \n",
    "    return freq  \n",
    "    \n",
    "n=int(input())\n",
    "arr=(input())\n",
    "print(occ(n,arr))"
   ]
  },
  {
   "cell_type": "code",
   "execution_count": 6,
   "id": "98de0617",
   "metadata": {},
   "outputs": [
    {
     "name": "stdout",
     "output_type": "stream",
     "text": [
      "4\n",
      "-2 0 8 4\n"
     ]
    },
    {
     "ename": "TypeError",
     "evalue": "'<' not supported between instances of 'type' and 'type'",
     "output_type": "error",
     "traceback": [
      "\u001b[1;31m---------------------------------------------------------------------------\u001b[0m",
      "\u001b[1;31mTypeError\u001b[0m                                 Traceback (most recent call last)",
      "\u001b[1;32mC:\\Users\\ADMINI~1\\AppData\\Local\\Temp/ipykernel_9892/315452677.py\u001b[0m in \u001b[0;36m<module>\u001b[1;34m\u001b[0m\n\u001b[0;32m      5\u001b[0m \u001b[0ml\u001b[0m\u001b[1;33m=\u001b[0m\u001b[0mlen\u001b[0m\u001b[1;33m(\u001b[0m\u001b[0ma\u001b[0m\u001b[1;33m)\u001b[0m\u001b[1;33m\u001b[0m\u001b[1;33m\u001b[0m\u001b[0m\n\u001b[0;32m      6\u001b[0m \u001b[1;32mfor\u001b[0m \u001b[0mi\u001b[0m \u001b[1;32min\u001b[0m \u001b[0mrange\u001b[0m\u001b[1;33m(\u001b[0m\u001b[0ml\u001b[0m\u001b[1;33m)\u001b[0m\u001b[1;33m:\u001b[0m\u001b[1;33m\u001b[0m\u001b[1;33m\u001b[0m\u001b[0m\n\u001b[1;32m----> 7\u001b[1;33m     \u001b[1;32mif\u001b[0m \u001b[0ma\u001b[0m\u001b[1;33m[\u001b[0m\u001b[0mi\u001b[0m\u001b[1;33m]\u001b[0m\u001b[1;33m<\u001b[0m\u001b[0mst\u001b[0m\u001b[1;33m:\u001b[0m\u001b[1;33m\u001b[0m\u001b[1;33m\u001b[0m\u001b[0m\n\u001b[0m\u001b[0;32m      8\u001b[0m         \u001b[0mst\u001b[0m\u001b[1;33m=\u001b[0m\u001b[0ma\u001b[0m\u001b[1;33m[\u001b[0m\u001b[0mi\u001b[0m\u001b[1;33m]\u001b[0m\u001b[1;33m\u001b[0m\u001b[1;33m\u001b[0m\u001b[0m\n\u001b[0;32m      9\u001b[0m     \u001b[1;32melif\u001b[0m \u001b[0ma\u001b[0m\u001b[1;33m[\u001b[0m\u001b[0mi\u001b[0m\u001b[1;33m]\u001b[0m\u001b[1;33m>\u001b[0m\u001b[0mlt\u001b[0m\u001b[1;33m:\u001b[0m\u001b[1;33m\u001b[0m\u001b[1;33m\u001b[0m\u001b[0m\n",
      "\u001b[1;31mTypeError\u001b[0m: '<' not supported between instances of 'type' and 'type'"
     ]
    }
   ],
   "source": [
    "n=(input())\n",
    "a=[int,input().split()]\n",
    "st=a[0]\n",
    "lt=a[0]\n",
    "l=len(a)\n",
    "for i in range(l):\n",
    "    if a[i]<st:\n",
    "        st=a[i]\n",
    "    elif a[i]>lt:\n",
    "        lt=a[i]\n",
    "print('{}\\n{}'.format(st,lt))        \n"
   ]
  },
  {
   "cell_type": "code",
   "execution_count": 8,
   "id": "f92900d9",
   "metadata": {},
   "outputs": [
    {
     "name": "stdout",
     "output_type": "stream",
     "text": [
      "-2\n",
      "8\n"
     ]
    }
   ],
   "source": [
    "n=4\n",
    "a = [-2, 0 ,8, 4]\n",
    "st = a[0]\n",
    "lt = a[0]\n",
    "l = len(a)\n",
    "if n<100:\n",
    "    for i in range(l):\n",
    "        if a[i] < st:\n",
    "            st = a[i]\n",
    "        elif a[i] > lt:\n",
    "            lt = a [i]\n",
    "print('{}\\n{}'.format(st,lt)) "
   ]
  },
  {
   "cell_type": "code",
   "execution_count": 19,
   "id": "5834afa0",
   "metadata": {},
   "outputs": [
    {
     "name": "stdout",
     "output_type": "stream",
     "text": [
      "-2\n",
      "8\n"
     ]
    }
   ],
   "source": [
    "n=int(input())\n",
    "a =list(map(int, input().split()))\n",
    "st = a[0]\n",
    "lt = a[0]\n",
    "l = len(a)\n",
    "if n<100:\n",
    "    for i in range(l):\n",
    "        if a[i] < st:\n",
    "            st = a[i]\n",
    "        elif a[i] > lt:\n",
    "            lt = a [i]\n",
    "print('{}\\n{}'.format(st,lt)) "
   ]
  },
  {
   "cell_type": "code",
   "execution_count": 9,
   "id": "d4a93991",
   "metadata": {},
   "outputs": [],
   "source": [
    "def uni(n,st):\n",
    "    c=0\n",
    "    for i in st:\n",
    "        c+=1\n",
    "        print(i,' - ',c)\n",
    "        "
   ]
  },
  {
   "cell_type": "code",
   "execution_count": 28,
   "id": "e1f01cbb",
   "metadata": {},
   "outputs": [],
   "source": [
    "def uni(n,st):\n",
    "    \n",
    "    for i in (st):\n",
    "        c=st.count(i)\n",
    "        print(i,' - ',c)"
   ]
  },
  {
   "cell_type": "code",
   "execution_count": 29,
   "id": "bee6135d",
   "metadata": {},
   "outputs": [
    {
     "name": "stdout",
     "output_type": "stream",
     "text": [
      "m  -  1\n",
      "n  -  1\n",
      "a  -  2\n"
     ]
    }
   ],
   "source": [
    "uni(4,'aman'\n",
    "   )"
   ]
  },
  {
   "cell_type": "code",
   "execution_count": 31,
   "id": "d5e20ac5",
   "metadata": {},
   "outputs": [
    {
     "name": "stdout",
     "output_type": "stream",
     "text": [
      "4 5 7\n",
      "9 2 5\n",
      "{' ', '5'}\n"
     ]
    }
   ],
   "source": [
    "n=3\n",
    "arr1=input()\n",
    "arr2=input()\n",
    "arr1=set(arr1)\n",
    "arr2=set(arr2)\n",
    "if (arr1 & arr2 ):\n",
    "    print(arr1 & arr2)"
   ]
  },
  {
   "cell_type": "code",
   "execution_count": 34,
   "id": "697b616c",
   "metadata": {},
   "outputs": [
    {
     "name": "stdout",
     "output_type": "stream",
     "text": [
      "3\n",
      "4 5 7\n",
      "9 2 5\n",
      "{5}\n"
     ]
    }
   ],
   "source": [
    "n=int(input())\n",
    "arr1=list(map(int, input().split()))\n",
    "arr2=list(map(int, input().split()))\n",
    "x=set(arr1).intersection(arr2)\n",
    "print(x)"
   ]
  },
  {
   "cell_type": "code",
   "execution_count": 18,
   "id": "0a70e0e0",
   "metadata": {},
   "outputs": [
    {
     "name": "stdout",
     "output_type": "stream",
     "text": [
      "3\n",
      "4 5 7\n",
      "9 2 5\n",
      "5\n"
     ]
    }
   ],
   "source": [
    "n=int(input())\n",
    "arr1=list(map(int, input().split()))\n",
    "arr2=list(map(int, input().split()))\n",
    "if n>=1 and n<=1000:\n",
    "    for i in arr1:\n",
    "        if i in arr2:\n",
    "            print(i)"
   ]
  },
  {
   "cell_type": "code",
   "execution_count": 37,
   "id": "118ae1d6",
   "metadata": {},
   "outputs": [
    {
     "name": "stdout",
     "output_type": "stream",
     "text": [
      "3\n",
      "4 5 7\n",
      "9 2 5\n"
     ]
    },
    {
     "ename": "TypeError",
     "evalue": "int() argument must be a string, a bytes-like object or a number, not 'list'",
     "output_type": "error",
     "traceback": [
      "\u001b[1;31m---------------------------------------------------------------------------\u001b[0m",
      "\u001b[1;31mTypeError\u001b[0m                                 Traceback (most recent call last)",
      "\u001b[1;32mC:\\Users\\ADMINI~1\\AppData\\Local\\Temp/ipykernel_9892/2642922160.py\u001b[0m in \u001b[0;36m<module>\u001b[1;34m\u001b[0m\n\u001b[0;32m      2\u001b[0m \u001b[0marr1\u001b[0m\u001b[1;33m=\u001b[0m\u001b[0mlist\u001b[0m\u001b[1;33m(\u001b[0m\u001b[0mmap\u001b[0m\u001b[1;33m(\u001b[0m\u001b[0mint\u001b[0m\u001b[1;33m,\u001b[0m \u001b[0minput\u001b[0m\u001b[1;33m(\u001b[0m\u001b[1;33m)\u001b[0m\u001b[1;33m.\u001b[0m\u001b[0msplit\u001b[0m\u001b[1;33m(\u001b[0m\u001b[1;33m)\u001b[0m\u001b[1;33m)\u001b[0m\u001b[1;33m)\u001b[0m\u001b[1;33m\u001b[0m\u001b[1;33m\u001b[0m\u001b[0m\n\u001b[0;32m      3\u001b[0m \u001b[0marr2\u001b[0m\u001b[1;33m=\u001b[0m\u001b[0mlist\u001b[0m\u001b[1;33m(\u001b[0m\u001b[0mmap\u001b[0m\u001b[1;33m(\u001b[0m\u001b[0mint\u001b[0m\u001b[1;33m,\u001b[0m \u001b[0minput\u001b[0m\u001b[1;33m(\u001b[0m\u001b[1;33m)\u001b[0m\u001b[1;33m.\u001b[0m\u001b[0msplit\u001b[0m\u001b[1;33m(\u001b[0m\u001b[1;33m)\u001b[0m\u001b[1;33m)\u001b[0m\u001b[1;33m)\u001b[0m\u001b[1;33m\u001b[0m\u001b[1;33m\u001b[0m\u001b[0m\n\u001b[1;32m----> 4\u001b[1;33m \u001b[0mc\u001b[0m \u001b[1;33m=\u001b[0m \u001b[0mint\u001b[0m\u001b[1;33m(\u001b[0m\u001b[1;33m[\u001b[0m\u001b[0mvalue\u001b[0m \u001b[1;32mfor\u001b[0m \u001b[0mvalue\u001b[0m \u001b[1;32min\u001b[0m \u001b[0marr1\u001b[0m \u001b[1;32mif\u001b[0m \u001b[0mvalue\u001b[0m \u001b[1;32min\u001b[0m \u001b[0marr2\u001b[0m\u001b[1;33m]\u001b[0m\u001b[1;33m)\u001b[0m\u001b[1;33m\u001b[0m\u001b[1;33m\u001b[0m\u001b[0m\n\u001b[0m\u001b[0;32m      5\u001b[0m \u001b[0mc\u001b[0m\u001b[1;33m\u001b[0m\u001b[1;33m\u001b[0m\u001b[0m\n",
      "\u001b[1;31mTypeError\u001b[0m: int() argument must be a string, a bytes-like object or a number, not 'list'"
     ]
    }
   ],
   "source": [
    "n=int(input())\n",
    "arr1=list(map(int, input().split()))\n",
    "arr2=list(map(int, input().split()))\n",
    "c = [value for value in arr1 if value in arr2]\n",
    "c"
   ]
  },
  {
   "cell_type": "code",
   "execution_count": 30,
   "id": "b4e43fe4",
   "metadata": {},
   "outputs": [
    {
     "name": "stdout",
     "output_type": "stream",
     "text": [
      "4 5 7\n",
      "9 2 5\n",
      "[]\n"
     ]
    }
   ],
   "source": [
    "import numpy as np\n",
    "n=3\n",
    "arr1=np.array(input())\n",
    "arr2=np.array(input())\n",
    "inter=np.intersect1d(arr1,arr2)\n",
    "print(inter)"
   ]
  },
  {
   "cell_type": "code",
   "execution_count": 38,
   "id": "0663ea76",
   "metadata": {},
   "outputs": [
    {
     "name": "stdout",
     "output_type": "stream",
     "text": [
      "97420\n",
      "Caught\n"
     ]
    }
   ],
   "source": [
    "n=int(input())\n",
    "x=str(420)\n",
    "x=x.strip()\n",
    "if n<1000000 and x in str(n):\n",
    "    print('Caught')\n",
    "else:\n",
    "    print('Escaped')"
   ]
  },
  {
   "cell_type": "code",
   "execution_count": 40,
   "id": "116b62ca",
   "metadata": {},
   "outputs": [
    {
     "name": "stdout",
     "output_type": "stream",
     "text": [
      "12 17 65 18 46 "
     ]
    }
   ],
   "source": [
    "\n",
    "\n",
    "\n",
    "def printArr(arr, n):\n",
    "\n",
    "\tfor i in range(n):\n",
    "\t\tprint(arr[i], end = ' ')\n",
    "\n",
    "\n",
    "def sortWithRemainder(arr, n, k):\n",
    "\n",
    "\n",
    "\tv = [[] for i in range(k)]\n",
    "\n",
    "\n",
    "\tfor i in range(n):\n",
    "\t\tv[arr[i] % k].append(arr[i])\n",
    "\t\t\n",
    "\n",
    "\tfor i in range(k):\n",
    "\t\tv[i].sort()\n",
    "\n",
    "\tj = 0\n",
    "\t\n",
    "\tfor i in range(k):\n",
    "\n",
    "\n",
    "\t\tfor it in v[i]:\n",
    "\t\t\tarr[j] = it\n",
    "\t\t\tj += 1\n",
    "\n",
    "\tprintArr(arr, n)\n",
    "\n",
    "\n",
    "if __name__=='__main__':\n",
    "\n",
    "\tarr = [ 12, 18 ,17 ,65, 46 ]\n",
    "\tn = len(arr)\n",
    "\tk = 4\n",
    "\n",
    "\tsortWithRemainder(arr, n, k)\n",
    "\n",
    "\n"
   ]
  },
  {
   "cell_type": "code",
   "execution_count": null,
   "id": "6e9494d5",
   "metadata": {},
   "outputs": [],
   "source": [
    "5\n",
    "A\n",
    "ABA\n",
    "ABA\n",
    "A\n",
    "A"
   ]
  },
  {
   "cell_type": "code",
   "execution_count": 33,
   "id": "ec2ba8ac",
   "metadata": {},
   "outputs": [
    {
     "name": "stdout",
     "output_type": "stream",
     "text": [
      "A\n"
     ]
    },
    {
     "ename": "AttributeError",
     "evalue": "'int' object has no attribute 'append'",
     "output_type": "error",
     "traceback": [
      "\u001b[1;31m---------------------------------------------------------------------------\u001b[0m",
      "\u001b[1;31mAttributeError\u001b[0m                            Traceback (most recent call last)",
      "\u001b[1;32mC:\\Users\\ADMINI~1\\AppData\\Local\\Temp/ipykernel_17516/750589805.py\u001b[0m in \u001b[0;36m<module>\u001b[1;34m\u001b[0m\n\u001b[0;32m      3\u001b[0m     \u001b[1;32mfor\u001b[0m \u001b[0mi\u001b[0m \u001b[1;32min\u001b[0m \u001b[0mrange\u001b[0m\u001b[1;33m(\u001b[0m\u001b[0mn\u001b[0m\u001b[1;33m)\u001b[0m\u001b[1;33m:\u001b[0m\u001b[1;33m\u001b[0m\u001b[1;33m\u001b[0m\u001b[0m\n\u001b[0;32m      4\u001b[0m         \u001b[0mX\u001b[0m\u001b[1;33m=\u001b[0m\u001b[0minput\u001b[0m\u001b[1;33m(\u001b[0m\u001b[1;33m)\u001b[0m\u001b[1;33m\u001b[0m\u001b[1;33m\u001b[0m\u001b[0m\n\u001b[1;32m----> 5\u001b[1;33m         \u001b[0mm\u001b[0m\u001b[1;33m=\u001b[0m\u001b[0mm\u001b[0m\u001b[1;33m.\u001b[0m\u001b[0mappend\u001b[0m\u001b[1;33m(\u001b[0m\u001b[0mX\u001b[0m\u001b[1;33m)\u001b[0m\u001b[1;33m\u001b[0m\u001b[1;33m\u001b[0m\u001b[0m\n\u001b[0m\u001b[0;32m      6\u001b[0m \u001b[0mco1\u001b[0m\u001b[1;33m=\u001b[0m\u001b[0mX\u001b[0m\u001b[1;33m.\u001b[0m\u001b[0mcount\u001b[0m\u001b[1;33m(\u001b[0m\u001b[1;34m'A'\u001b[0m\u001b[1;33m)\u001b[0m\u001b[1;33m\u001b[0m\u001b[1;33m\u001b[0m\u001b[0m\n\u001b[0;32m      7\u001b[0m \u001b[0mco2\u001b[0m\u001b[1;33m=\u001b[0m\u001b[0mX\u001b[0m\u001b[1;33m.\u001b[0m\u001b[0mcount\u001b[0m\u001b[1;33m(\u001b[0m\u001b[1;34m'B'\u001b[0m\u001b[1;33m)\u001b[0m\u001b[1;33m\u001b[0m\u001b[1;33m\u001b[0m\u001b[0m\n",
      "\u001b[1;31mAttributeError\u001b[0m: 'int' object has no attribute 'append'"
     ]
    }
   ],
   "source": [
    "n=5\n",
    "if n>=1 and n<=100:\n",
    "    for i in range(n):\n",
    "        X=input()\n",
    "        m=m.append(X)\n",
    "co1=X.count('A')\n",
    "co2=X.count('B')\n",
    "if co1>co2:\n",
    "    print('Co1 ',co1)\n",
    "else:\n",
    "    print('Co2 ',co2)"
   ]
  },
  {
   "cell_type": "code",
   "execution_count": 46,
   "id": "3c10a93a",
   "metadata": {},
   "outputs": [
    {
     "name": "stdout",
     "output_type": "stream",
     "text": [
      "4\n",
      "aman\n",
      "{ - 1\n",
      "' - 6\n",
      "m - 1\n",
      "' - 6\n",
      ", - 2\n",
      "  - 2\n",
      "' - 6\n",
      "n - 1\n",
      "' - 6\n",
      ", - 2\n",
      "  - 2\n",
      "' - 6\n",
      "a - 1\n",
      "' - 6\n",
      "} - 1\n"
     ]
    }
   ],
   "source": [
    "n=int(input())\n",
    "st=set(input())\n",
    "st=str(st)\n",
    "if n >=1 and n<=100:\n",
    "    for i in (st):\n",
    "        c=st.count(i)\n",
    "        print(i,'-',c)"
   ]
  },
  {
   "cell_type": "code",
   "execution_count": 49,
   "id": "50d61b6a",
   "metadata": {},
   "outputs": [
    {
     "name": "stdout",
     "output_type": "stream",
     "text": [
      "4\n",
      "aman\n"
     ]
    },
    {
     "ename": "AttributeError",
     "evalue": "'set' object has no attribute 'values'",
     "output_type": "error",
     "traceback": [
      "\u001b[1;31m---------------------------------------------------------------------------\u001b[0m",
      "\u001b[1;31mAttributeError\u001b[0m                            Traceback (most recent call last)",
      "\u001b[1;32mC:\\Users\\ADMINI~1\\AppData\\Local\\Temp/ipykernel_9892/2677895634.py\u001b[0m in \u001b[0;36m<module>\u001b[1;34m\u001b[0m\n\u001b[0;32m      2\u001b[0m \u001b[0mst\u001b[0m\u001b[1;33m=\u001b[0m\u001b[0mset\u001b[0m\u001b[1;33m(\u001b[0m\u001b[0minput\u001b[0m\u001b[1;33m(\u001b[0m\u001b[1;33m)\u001b[0m\u001b[1;33m)\u001b[0m\u001b[1;33m\u001b[0m\u001b[1;33m\u001b[0m\u001b[0m\n\u001b[0;32m      3\u001b[0m \u001b[1;33m\u001b[0m\u001b[0m\n\u001b[1;32m----> 4\u001b[1;33m \u001b[0mst\u001b[0m\u001b[1;33m.\u001b[0m\u001b[0mvalues\u001b[0m\u001b[1;33m\u001b[0m\u001b[1;33m\u001b[0m\u001b[0m\n\u001b[0m",
      "\u001b[1;31mAttributeError\u001b[0m: 'set' object has no attribute 'values'"
     ]
    }
   ],
   "source": [
    "n=int(input())\n",
    "st=set(input())\n",
    "\n",
    "st"
   ]
  },
  {
   "cell_type": "code",
   "execution_count": null,
   "id": "0e24e0bd",
   "metadata": {},
   "outputs": [],
   "source": [
    "from collections import Counter\n",
    " \n",
    "def prCharWithFreq(string):\n",
    " \n",
    "    # Store all characters and their\n",
    "    # frequencies using Counter function\n",
    "    d = Counter(string)\n",
    " \n",
    "    # Print characters and their frequencies in\n",
    "    # same order of their appearance\n",
    "    for i in d:\n",
    "        print(i+'-'+str(d[i]), end=\" \")\n",
    " \n",
    " \n",
    "string = \"aman\"\n",
    "prCharWithFreq(string)"
   ]
  },
  {
   "cell_type": "code",
   "execution_count": null,
   "id": "c6c24a80",
   "metadata": {},
   "outputs": [],
   "source": [
    "n=int(input())\n",
    "st=set(input())\n",
    "st=list(st)\n",
    "if n >=1 and n<=100:\n",
    "    for i in (st):\n",
    "        c=st.count(i)\n",
    "        print(i,'-',c)\n"
   ]
  },
  {
   "cell_type": "code",
   "execution_count": 54,
   "id": "11b91e3a",
   "metadata": {},
   "outputs": [
    {
     "name": "stdout",
     "output_type": "stream",
     "text": [
      "4\n",
      "aman\n",
      "a-2\n",
      "m-1\n",
      "n-1\n"
     ]
    }
   ],
   "source": [
    "from collections import Counter\n",
    "n=int(input())\n",
    "st=Counter(input())\n",
    "for i in st:\n",
    "    print(i+'-'+str(st[i]), end=\"\\n\")\n",
    "\n"
   ]
  },
  {
   "cell_type": "code",
   "execution_count": 5,
   "id": "fdd125ef",
   "metadata": {},
   "outputs": [
    {
     "name": "stdout",
     "output_type": "stream",
     "text": [
      "120 90 70\n",
      "90 80 110\n",
      "Second\n"
     ]
    }
   ],
   "source": [
    "first=list(map(int, input().split()))\n",
    "sec=list(map(int, input().split()))\n",
    "marks1=sum(first)\n",
    "marks2=sum(sec)\n",
    "if marks1< marks2 and marks1<3600 and marks2<3600:\n",
    "    print(\"First\")\n",
    "elif marks1==marks2  and marks1<3600 and marks2<3600:\n",
    "    if first[-1]>sec[-1]:\n",
    "        print('First')\n",
    "    elif first[-1]<sec[-1]: \n",
    "        print('Second')\n",
    "    elif first[-1]==sec[-1]:\n",
    "        if first[0]>sec[0]:\n",
    "            print('First')\n",
    "        else:  \n",
    "            print('second')\n",
    "else:\n",
    "    print(\"Second\")          "
   ]
  },
  {
   "cell_type": "code",
   "execution_count": 6,
   "id": "6cb0227e",
   "metadata": {},
   "outputs": [
    {
     "name": "stdout",
     "output_type": "stream",
     "text": [
      "No\n"
     ]
    }
   ],
   "source": [
    "s='masai'\n",
    "if len(set(s))==len(s) and len(s)<1000:\n",
    "    print('Unique')\n",
    "else:\n",
    "    print('No')"
   ]
  },
  {
   "cell_type": "code",
   "execution_count": null,
   "id": "c4a6ce25",
   "metadata": {},
   "outputs": [],
   "source": [
    "from collections import Counter   \n",
    "a=0 2 0 6 9\n",
    "lis=str(a) \n",
    "count=Counter(lis) \n",
    "print(count[\"4\"])"
   ]
  },
  {
   "cell_type": "code",
   "execution_count": 14,
   "id": "ab380d68",
   "metadata": {},
   "outputs": [
    {
     "ename": "IndentationError",
     "evalue": "unindent does not match any outer indentation level (<tokenize>, line 13)",
     "output_type": "error",
     "traceback": [
      "\u001b[1;36m  File \u001b[1;32m\"<tokenize>\"\u001b[1;36m, line \u001b[1;32m13\u001b[0m\n\u001b[1;33m    return element_having_max_freq;\u001b[0m\n\u001b[1;37m    ^\u001b[0m\n\u001b[1;31mIndentationError\u001b[0m\u001b[1;31m:\u001b[0m unindent does not match any outer indentation level\n"
     ]
    }
   ],
   "source": [
    "def mostFrequent(arr, n):\n",
    "    maxcount = 0;\n",
    "    element_having_max_freq = 0;\n",
    "    for i in range(0, n):\n",
    "        count = 0\n",
    "        for j in range(0, n):\n",
    "            if(arr[i] == arr[j]):\n",
    "                count += 1\n",
    "        if(count > maxcount):\n",
    "            maxcount = count\n",
    "    element_having_max_freq = arr[i]\n",
    "   \n",
    "  return element_having_max_freq;\n",
    " \n",
    "\n",
    "arr = [40,50,30,40,50,30,30]\n",
    "n = len(arr)\n",
    "print(mostFrequent(arr, n))"
   ]
  },
  {
   "cell_type": "code",
   "execution_count": 16,
   "id": "8b2ab587",
   "metadata": {},
   "outputs": [
    {
     "name": "stdout",
     "output_type": "stream",
     "text": [
      "5\n",
      "0 2 0 6 9\n",
      "0\n"
     ]
    }
   ],
   "source": [
    "n =int(input())\n",
    "arr = list(map(int, input().split()))\n",
    "maxcount = 0\n",
    "element_having_max_freq = 0\n",
    "for i in range(0, n):\n",
    "    count = 0\n",
    "    for j in range(0, n):\n",
    "        if(arr[i] == arr[j]):\n",
    "            count += 1\n",
    "    if(count > maxcount):\n",
    "        maxcount = count\n",
    "        element_having_max_freq = arr[i]\n",
    "print(element_having_max_freq)"
   ]
  },
  {
   "cell_type": "code",
   "execution_count": 26,
   "id": "7e1c6f82",
   "metadata": {},
   "outputs": [
    {
     "name": "stdout",
     "output_type": "stream",
     "text": [
      "5 6\n",
      "12 18 17 65 46\n",
      "0 0 5 5 4 "
     ]
    }
   ],
   "source": [
    "n,k= map(int,input().split())\n",
    "a=list(map(int,input().split()))\n",
    "for i in a:\n",
    "    m=i%k\n",
    "    print(m,end=' ')"
   ]
  },
  {
   "cell_type": "code",
   "execution_count": 30,
   "id": "89650738",
   "metadata": {},
   "outputs": [
    {
     "name": "stdout",
     "output_type": "stream",
     "text": [
      "5\n",
      "6\n",
      "12 18 17 65 46\n",
      "12 18 17 65 46 "
     ]
    }
   ],
   "source": [
    "n=\n",
    "k=int(input())\n",
    "arr=list(map(int,input().split()))\n",
    "p = 0\n",
    "v1 = []\n",
    "v2 = []\n",
    " \n",
    "for i in range(0, n, 1):\n",
    "    if (arr[i] % k == p):\n",
    "        v1.append(i)\n",
    "        v2.append(arr[i])\n",
    "v2.sort(reverse = False)\n",
    "for i in range(0, len(v1), 1):\n",
    "    arr[v1[i]] = v2[i]\n",
    "for i in range(0, n, 1):\n",
    "    print(arr[i], end = \" \")\n",
    "\n",
    "    "
   ]
  },
  {
   "cell_type": "code",
   "execution_count": 4,
   "id": "5d2cf8cd",
   "metadata": {},
   "outputs": [
    {
     "name": "stdout",
     "output_type": "stream",
     "text": [
      "amit\n",
      "mtia\n",
      "Yes\n"
     ]
    }
   ],
   "source": [
    "s1=input()\n",
    "s2=input()\n",
    "n1=len(s1)\n",
    "n2=len(s2)\n",
    "if n1<1000 and n2<1000:\n",
    "    if (n1!=n2):\n",
    "        print('No')\n",
    "    a=sorted(s1)\n",
    "    s1=' '.join(a)\n",
    "    b=sorted(s2)\n",
    "    s2=' '.join(b)\n",
    "    for i in range(0,n1,1):\n",
    "        if(s1[i]!=s2[i]):\n",
    "            print('No')\n",
    "    else:\n",
    "        print('Yes')"
   ]
  },
  {
   "cell_type": "code",
   "execution_count": 13,
   "id": "b0e8f102",
   "metadata": {},
   "outputs": [
    {
     "name": "stdout",
     "output_type": "stream",
     "text": [
      "amit\n",
      "mtia\n",
      "Yes\n"
     ]
    }
   ],
   "source": [
    "s1=input()\n",
    "s2=input()\n",
    "n1=len(s1)\n",
    "n2=len(s2)\n",
    "a=sorted(s1)\n",
    "s1=' '.join(a)\n",
    "b=sorted(s2)\n",
    "s2=' '.join(b)\n",
    "if n1<1000 and n2<1000:\n",
    "    if (n1!=n2):\n",
    "        print('No')\n",
    "    for i in range(0,n1,1):\n",
    "        if(s1[i]!=s2[i]):\n",
    "            print('No')\n",
    "    else:\n",
    "        print('Yes')   "
   ]
  },
  {
   "cell_type": "code",
   "execution_count": 14,
   "id": "399a8d6d",
   "metadata": {},
   "outputs": [
    {
     "name": "stdout",
     "output_type": "stream",
     "text": [
      "amit\n",
      "mtia\n",
      "Yes\n"
     ]
    }
   ],
   "source": [
    "s1=input()\n",
    "s2=input()\n",
    "n1=len(s1)\n",
    "n2=len(s2)\n",
    "\n",
    "if n1<1000 and n2<1000:\n",
    "    a=sorted(s1)\n",
    "    s1=' '.join(a)\n",
    "    b=sorted(s2)\n",
    "    s2=' '.join(b)\n",
    "    if (n1!=n2):\n",
    "        print('No')\n",
    "    for i in range(0,n1,1):\n",
    "        if(s1[i]!=s2[i]):\n",
    "            print('No')\n",
    "    else:\n",
    "        print('Yes')  "
   ]
  },
  {
   "cell_type": "code",
   "execution_count": 15,
   "id": "c19468a9",
   "metadata": {},
   "outputs": [],
   "source": [
    "import numpy as np\n"
   ]
  },
  {
   "cell_type": "code",
   "execution_count": 18,
   "id": "bbbbbabf",
   "metadata": {},
   "outputs": [
    {
     "name": "stdout",
     "output_type": "stream",
     "text": [
      "4 3 2\n",
      "1 2\n"
     ]
    },
    {
     "ename": "TypeError",
     "evalue": "Field elements must be 2- or 3-tuples, got ''1''",
     "output_type": "error",
     "traceback": [
      "\u001b[1;31m---------------------------------------------------------------------------\u001b[0m",
      "\u001b[1;31mTypeError\u001b[0m                                 Traceback (most recent call last)",
      "\u001b[1;32mC:\\Users\\ADMINI~1\\AppData\\Local\\Temp/ipykernel_11992/4081875694.py\u001b[0m in \u001b[0;36m<module>\u001b[1;34m\u001b[0m\n\u001b[0;32m      1\u001b[0m \u001b[0mn\u001b[0m\u001b[1;33m,\u001b[0m\u001b[0mm\u001b[0m\u001b[1;33m,\u001b[0m\u001b[0mp\u001b[0m\u001b[1;33m=\u001b[0m\u001b[0mmap\u001b[0m\u001b[1;33m(\u001b[0m\u001b[0mint\u001b[0m\u001b[1;33m,\u001b[0m\u001b[0minput\u001b[0m\u001b[1;33m(\u001b[0m\u001b[1;33m)\u001b[0m\u001b[1;33m.\u001b[0m\u001b[0msplit\u001b[0m\u001b[1;33m(\u001b[0m\u001b[1;33m)\u001b[0m\u001b[1;33m)\u001b[0m\u001b[1;33m\u001b[0m\u001b[1;33m\u001b[0m\u001b[0m\n\u001b[1;32m----> 2\u001b[1;33m \u001b[0mn\u001b[0m\u001b[1;33m,\u001b[0m\u001b[0mm\u001b[0m\u001b[1;33m,\u001b[0m\u001b[0mp\u001b[0m \u001b[1;33m=\u001b[0m\u001b[0mmap\u001b[0m\u001b[1;33m(\u001b[0m\u001b[0mnp\u001b[0m\u001b[1;33m.\u001b[0m\u001b[0marray\u001b[0m\u001b[1;33m(\u001b[0m\u001b[0mint\u001b[0m\u001b[1;33m,\u001b[0m\u001b[0minput\u001b[0m\u001b[1;33m(\u001b[0m\u001b[1;33m)\u001b[0m\u001b[1;33m.\u001b[0m\u001b[0msplit\u001b[0m\u001b[1;33m(\u001b[0m\u001b[1;33m)\u001b[0m\u001b[1;33m)\u001b[0m\u001b[1;33m)\u001b[0m\u001b[1;33m\u001b[0m\u001b[1;33m\u001b[0m\u001b[0m\n\u001b[0m",
      "\u001b[1;31mTypeError\u001b[0m: Field elements must be 2- or 3-tuples, got ''1''"
     ]
    }
   ],
   "source": [
    "n,m,p=map(int,input().split())\n",
    "n,m,p =map(np.array(int,input().split()))"
   ]
  },
  {
   "cell_type": "code",
   "execution_count": 20,
   "id": "f98e3de0",
   "metadata": {},
   "outputs": [
    {
     "name": "stdout",
     "output_type": "stream",
     "text": [
      "4 3 2\n",
      "1 2\n",
      "1 2\n",
      "1 2\n",
      "1 2\n",
      "1 2\n",
      "1 2\n",
      "1 2\n",
      "1 2\n"
     ]
    }
   ],
   "source": [
    "n,m,p=map(int,input().split())\n",
    "for i in range(n):\n",
    "    for j in range(p):\n",
    "        input().split()"
   ]
  },
  {
   "cell_type": "code",
   "execution_count": 22,
   "id": "d11b1965",
   "metadata": {},
   "outputs": [
    {
     "name": "stdout",
     "output_type": "stream",
     "text": [
      "432\n"
     ]
    },
    {
     "ename": "TypeError",
     "evalue": "'map' object is not subscriptable",
     "output_type": "error",
     "traceback": [
      "\u001b[1;31m---------------------------------------------------------------------------\u001b[0m",
      "\u001b[1;31mTypeError\u001b[0m                                 Traceback (most recent call last)",
      "\u001b[1;32mC:\\Users\\ADMINI~1\\AppData\\Local\\Temp/ipykernel_11992/837279635.py\u001b[0m in \u001b[0;36m<module>\u001b[1;34m\u001b[0m\n\u001b[0;32m      1\u001b[0m \u001b[1;32mimport\u001b[0m \u001b[0mnumpy\u001b[0m \u001b[1;32mas\u001b[0m \u001b[0mnp\u001b[0m\u001b[1;33m\u001b[0m\u001b[1;33m\u001b[0m\u001b[0m\n\u001b[0;32m      2\u001b[0m \u001b[0mnmp\u001b[0m\u001b[1;33m=\u001b[0m \u001b[0mmap\u001b[0m\u001b[1;33m(\u001b[0m\u001b[0mint\u001b[0m\u001b[1;33m,\u001b[0m\u001b[0minput\u001b[0m\u001b[1;33m(\u001b[0m\u001b[1;33m)\u001b[0m\u001b[1;33m.\u001b[0m\u001b[0msplit\u001b[0m\u001b[1;33m(\u001b[0m\u001b[1;33m)\u001b[0m\u001b[1;33m)\u001b[0m\u001b[1;33m\u001b[0m\u001b[1;33m\u001b[0m\u001b[0m\n\u001b[1;32m----> 3\u001b[1;33m \u001b[0mn\u001b[0m\u001b[1;33m=\u001b[0m\u001b[0mnp\u001b[0m\u001b[1;33m.\u001b[0m\u001b[0marray\u001b[0m\u001b[1;33m(\u001b[0m\u001b[1;33m[\u001b[0m\u001b[0minput\u001b[0m\u001b[1;33m(\u001b[0m\u001b[1;33m)\u001b[0m\u001b[1;33m.\u001b[0m\u001b[0msplit\u001b[0m\u001b[1;33m(\u001b[0m\u001b[1;33m)\u001b[0m \u001b[1;32mfor\u001b[0m \u001b[0mi\u001b[0m \u001b[1;32min\u001b[0m \u001b[0mrange\u001b[0m\u001b[1;33m(\u001b[0m\u001b[0mnmp\u001b[0m\u001b[1;33m[\u001b[0m\u001b[1;36m0\u001b[0m\u001b[1;33m]\u001b[0m\u001b[1;33m)\u001b[0m\u001b[1;33m]\u001b[0m\u001b[1;33m,\u001b[0m\u001b[0mint\u001b[0m\u001b[1;33m)\u001b[0m\u001b[1;33m\u001b[0m\u001b[1;33m\u001b[0m\u001b[0m\n\u001b[0m\u001b[0;32m      4\u001b[0m \u001b[0mm\u001b[0m\u001b[1;33m=\u001b[0m\u001b[0mnp\u001b[0m\u001b[1;33m.\u001b[0m\u001b[0marray\u001b[0m\u001b[1;33m(\u001b[0m\u001b[1;33m[\u001b[0m\u001b[0minput\u001b[0m\u001b[1;33m(\u001b[0m\u001b[1;33m)\u001b[0m\u001b[1;33m.\u001b[0m\u001b[0msplit\u001b[0m\u001b[1;33m(\u001b[0m\u001b[1;33m)\u001b[0m \u001b[1;32mfor\u001b[0m \u001b[0mi\u001b[0m \u001b[1;32min\u001b[0m \u001b[0mrange\u001b[0m\u001b[1;33m(\u001b[0m\u001b[0mnmp\u001b[0m\u001b[1;33m[\u001b[0m\u001b[1;36m1\u001b[0m\u001b[1;33m]\u001b[0m\u001b[1;33m)\u001b[0m\u001b[1;33m]\u001b[0m\u001b[1;33m,\u001b[0m\u001b[0mint\u001b[0m\u001b[1;33m)\u001b[0m\u001b[1;33m\u001b[0m\u001b[1;33m\u001b[0m\u001b[0m\n\u001b[0;32m      5\u001b[0m \u001b[0mprint\u001b[0m\u001b[1;33m(\u001b[0m\u001b[0mnp\u001b[0m\u001b[1;33m.\u001b[0m\u001b[0mconcatenate\u001b[0m\u001b[1;33m(\u001b[0m\u001b[1;33m(\u001b[0m\u001b[0mn\u001b[0m\u001b[1;33m,\u001b[0m\u001b[0mm\u001b[0m\u001b[1;33m)\u001b[0m\u001b[1;33m,\u001b[0m\u001b[0maxis\u001b[0m\u001b[1;33m=\u001b[0m\u001b[1;36m0\u001b[0m\u001b[1;33m)\u001b[0m\u001b[1;33m)\u001b[0m\u001b[1;33m\u001b[0m\u001b[1;33m\u001b[0m\u001b[0m\n",
      "\u001b[1;31mTypeError\u001b[0m: 'map' object is not subscriptable"
     ]
    }
   ],
   "source": [
    "import numpy as np\n",
    "nmp= map(int,input().split())\n",
    "n=np.array([input().split() for i in range(nmp[0])],int)\n",
    "m=np.array([input().split() for i in range(nmp[1])],int)\n",
    "print(np.concatenate((n,m),axis=0))"
   ]
  },
  {
   "cell_type": "code",
   "execution_count": 26,
   "id": "b118ce80",
   "metadata": {},
   "outputs": [
    {
     "name": "stdout",
     "output_type": "stream",
     "text": [
      "4 3 2\n",
      "1 2\n",
      "1 2\n",
      "1 2\n",
      "1 2\n",
      "3 4\n",
      "3 4\n",
      "3 4\n",
      "[[1 2]\n",
      " [1 2]\n",
      " [1 2]\n",
      " [1 2]\n",
      " [3 4]\n",
      " [3 4]\n",
      " [3 4]]\n"
     ]
    }
   ],
   "source": [
    "import numpy\n",
    "\n",
    "NMP = list(map(int, input().split()))\n",
    "N = numpy.array([input().split() for i in range(NMP[0])], int)\n",
    "M = numpy.array([input().split() for i in range(NMP[1])], int)\n",
    "\n",
    "print(numpy.concatenate((N, M), axis = 0))"
   ]
  },
  {
   "cell_type": "code",
   "execution_count": 27,
   "id": "92ab143b",
   "metadata": {},
   "outputs": [
    {
     "name": "stdout",
     "output_type": "stream",
     "text": [
      "1 2 3 4 5 6 7 8 9\n",
      "[[1 2 3]\n",
      " [4 5 6]\n",
      " [7 8 9]]\n"
     ]
    }
   ],
   "source": [
    "arr= list(map(int, input().split()))\n",
    "print(np.reshape(arr,(3,3)))"
   ]
  },
  {
   "cell_type": "code",
   "execution_count": 28,
   "id": "dd58b043",
   "metadata": {},
   "outputs": [
    {
     "name": "stdout",
     "output_type": "stream",
     "text": [
      "0 1\n",
      "2 3\n",
      "3\n",
      "[[0 0]\n",
      " [2 3]]\n"
     ]
    }
   ],
   "source": [
    "a=list(map(int,input().split()))\n",
    "b=list(map(int,input().split()))\n",
    "print(np.array(np.inner(a,b)))\n",
    "print(np.array(np.outer(a,b)))"
   ]
  },
  {
   "cell_type": "code",
   "execution_count": 32,
   "id": "f45b1553",
   "metadata": {},
   "outputs": [
    {
     "name": "stdout",
     "output_type": "stream",
     "text": [
      "2\n",
      "1 2\n",
      "3 4\n",
      "1 2\n",
      "3 4\n",
      "[[ 7 10]\n",
      " [15 22]]\n"
     ]
    }
   ],
   "source": [
    "n=int(input())\n",
    "a=np.array([input().split() for i in range(n)],int)\n",
    "b=np.array([input().split() for i in range(n)],int)\n",
    "print(np.dot(a,b))"
   ]
  },
  {
   "cell_type": "code",
   "execution_count": null,
   "id": "de2dd805",
   "metadata": {},
   "outputs": [],
   "source": [
    "import numpy as np\n",
    "nm=list(map(int,input().split()))\n",
    "n=np.array([input().split() for i in range(nm[0])],int)\n",
    "\n",
    "print(np.max(np.min(n,axis=1)))\n"
   ]
  },
  {
   "cell_type": "code",
   "execution_count": null,
   "id": "34132ef2",
   "metadata": {},
   "outputs": [],
   "source": [
    "nm=list(map(int,input().split()))\n",
    "n=np.array([input().split() for i in range(nm[0])],int)\n",
    "print(np.transpose(n))\n",
    "print(n.flatten())"
   ]
  },
  {
   "cell_type": "code",
   "execution_count": null,
   "id": "b678b99c",
   "metadata": {},
   "outputs": [],
   "source": [
    "np.set_printoptions(legacy='1.13')\n",
    "a=list(map(float,input().split()))\n",
    "print(np.floor(a))\n",
    "print(np.ceil(a))\n",
    "print(np.rint(a))"
   ]
  },
  {
   "cell_type": "code",
   "execution_count": null,
   "id": "8585a59c",
   "metadata": {},
   "outputs": [],
   "source": [
    "import numpy as np\n",
    "np.set_printoptions(legacy='1.13')\n",
    "nm=list(map(int,input().split()))\n",
    "n=np.array([input().split() for i in range(nm[0])],int)\n",
    "print(np.mean(n, axis = 1))\n",
    "print(np.var(n, axis = 0))\n",
    "print(np.std(n, axis= None))"
   ]
  },
  {
   "cell_type": "code",
   "execution_count": 35,
   "id": "afaf530a",
   "metadata": {},
   "outputs": [
    {
     "name": "stdout",
     "output_type": "stream",
     "text": [
      "2 2\n",
      "1 2\n",
      "3 4\n",
      "[1.5 3.5]\n",
      "[1. 1.]\n",
      "1.118033988749895\n"
     ]
    },
    {
     "name": "stderr",
     "output_type": "stream",
     "text": [
      "C:\\Users\\ADMINI~1\\AppData\\Local\\Temp/ipykernel_11992/1220428697.py:3: DeprecationWarning: `np.float` is a deprecated alias for the builtin `float`. To silence this warning, use `float` by itself. Doing this will not modify any behavior and is safe. If you specifically wanted the numpy scalar type, use `np.float64` here.\n",
      "Deprecated in NumPy 1.20; for more details and guidance: https://numpy.org/devdocs/release/1.20.0-notes.html#deprecations\n",
      "  a = np.array([input().split() for _ in range(n)],dtype=np.float)\n"
     ]
    }
   ],
   "source": [
    "import numpy as np\n",
    "n,m=map(int,input().split())\n",
    "a=np.array([input().split() for _ in range(n)],dtype=np.float)\n",
    "print(np.mean(a,axis=1))\n",
    "print(np.var(a,axis=0))\n",
    "print(np.std(a,axis=None))"
   ]
  },
  {
   "cell_type": "code",
   "execution_count": 37,
   "id": "d8ed0245",
   "metadata": {},
   "outputs": [
    {
     "name": "stdout",
     "output_type": "stream",
     "text": [
      "2\n",
      "1.1 1.1\n",
      "1.1 1.1\n"
     ]
    },
    {
     "ename": "LinAlgError",
     "evalue": "1-dimensional array given. Array must be at least two-dimensional",
     "output_type": "error",
     "traceback": [
      "\u001b[1;31m---------------------------------------------------------------------------\u001b[0m",
      "\u001b[1;31mLinAlgError\u001b[0m                               Traceback (most recent call last)",
      "\u001b[1;32mC:\\Users\\ADMINI~1\\AppData\\Local\\Temp/ipykernel_11992/3725609989.py\u001b[0m in \u001b[0;36m<module>\u001b[1;34m\u001b[0m\n\u001b[0;32m      1\u001b[0m \u001b[0mN\u001b[0m \u001b[1;33m=\u001b[0m \u001b[0mint\u001b[0m\u001b[1;33m(\u001b[0m\u001b[0minput\u001b[0m\u001b[1;33m(\u001b[0m\u001b[1;33m)\u001b[0m\u001b[1;33m)\u001b[0m\u001b[1;33m\u001b[0m\u001b[1;33m\u001b[0m\u001b[0m\n\u001b[0;32m      2\u001b[0m \u001b[0mA\u001b[0m \u001b[1;33m=\u001b[0m \u001b[0mnumpy\u001b[0m\u001b[1;33m.\u001b[0m\u001b[0marray\u001b[0m\u001b[1;33m(\u001b[0m\u001b[1;33m[\u001b[0m\u001b[0mmap\u001b[0m\u001b[1;33m(\u001b[0m\u001b[0mfloat\u001b[0m\u001b[1;33m,\u001b[0m \u001b[0minput\u001b[0m\u001b[1;33m(\u001b[0m\u001b[1;33m)\u001b[0m\u001b[1;33m.\u001b[0m\u001b[0msplit\u001b[0m\u001b[1;33m(\u001b[0m\u001b[1;33m)\u001b[0m\u001b[1;33m)\u001b[0m \u001b[1;32mfor\u001b[0m \u001b[0mi\u001b[0m \u001b[1;32min\u001b[0m \u001b[0mrange\u001b[0m\u001b[1;33m(\u001b[0m\u001b[0mN\u001b[0m\u001b[1;33m)\u001b[0m\u001b[1;33m]\u001b[0m\u001b[1;33m)\u001b[0m\u001b[1;33m\u001b[0m\u001b[1;33m\u001b[0m\u001b[0m\n\u001b[1;32m----> 3\u001b[1;33m \u001b[0mprint\u001b[0m\u001b[1;33m(\u001b[0m\u001b[0mnumpy\u001b[0m\u001b[1;33m.\u001b[0m\u001b[0mlinalg\u001b[0m\u001b[1;33m.\u001b[0m\u001b[0mdet\u001b[0m\u001b[1;33m(\u001b[0m\u001b[0mA\u001b[0m\u001b[1;33m)\u001b[0m\u001b[1;33m)\u001b[0m\u001b[1;33m\u001b[0m\u001b[1;33m\u001b[0m\u001b[0m\n\u001b[0m",
      "\u001b[1;32m<__array_function__ internals>\u001b[0m in \u001b[0;36mdet\u001b[1;34m(*args, **kwargs)\u001b[0m\n",
      "\u001b[1;32m~\\anaconda3\\lib\\site-packages\\numpy\\linalg\\linalg.py\u001b[0m in \u001b[0;36mdet\u001b[1;34m(a)\u001b[0m\n\u001b[0;32m   2152\u001b[0m     \"\"\"\n\u001b[0;32m   2153\u001b[0m     \u001b[0ma\u001b[0m \u001b[1;33m=\u001b[0m \u001b[0masarray\u001b[0m\u001b[1;33m(\u001b[0m\u001b[0ma\u001b[0m\u001b[1;33m)\u001b[0m\u001b[1;33m\u001b[0m\u001b[1;33m\u001b[0m\u001b[0m\n\u001b[1;32m-> 2154\u001b[1;33m     \u001b[0m_assert_stacked_2d\u001b[0m\u001b[1;33m(\u001b[0m\u001b[0ma\u001b[0m\u001b[1;33m)\u001b[0m\u001b[1;33m\u001b[0m\u001b[1;33m\u001b[0m\u001b[0m\n\u001b[0m\u001b[0;32m   2155\u001b[0m     \u001b[0m_assert_stacked_square\u001b[0m\u001b[1;33m(\u001b[0m\u001b[0ma\u001b[0m\u001b[1;33m)\u001b[0m\u001b[1;33m\u001b[0m\u001b[1;33m\u001b[0m\u001b[0m\n\u001b[0;32m   2156\u001b[0m     \u001b[0mt\u001b[0m\u001b[1;33m,\u001b[0m \u001b[0mresult_t\u001b[0m \u001b[1;33m=\u001b[0m \u001b[0m_commonType\u001b[0m\u001b[1;33m(\u001b[0m\u001b[0ma\u001b[0m\u001b[1;33m)\u001b[0m\u001b[1;33m\u001b[0m\u001b[1;33m\u001b[0m\u001b[0m\n",
      "\u001b[1;32m~\\anaconda3\\lib\\site-packages\\numpy\\linalg\\linalg.py\u001b[0m in \u001b[0;36m_assert_stacked_2d\u001b[1;34m(*arrays)\u001b[0m\n\u001b[0;32m    194\u001b[0m     \u001b[1;32mfor\u001b[0m \u001b[0ma\u001b[0m \u001b[1;32min\u001b[0m \u001b[0marrays\u001b[0m\u001b[1;33m:\u001b[0m\u001b[1;33m\u001b[0m\u001b[1;33m\u001b[0m\u001b[0m\n\u001b[0;32m    195\u001b[0m         \u001b[1;32mif\u001b[0m \u001b[0ma\u001b[0m\u001b[1;33m.\u001b[0m\u001b[0mndim\u001b[0m \u001b[1;33m<\u001b[0m \u001b[1;36m2\u001b[0m\u001b[1;33m:\u001b[0m\u001b[1;33m\u001b[0m\u001b[1;33m\u001b[0m\u001b[0m\n\u001b[1;32m--> 196\u001b[1;33m             raise LinAlgError('%d-dimensional array given. Array must be '\n\u001b[0m\u001b[0;32m    197\u001b[0m                     'at least two-dimensional' % a.ndim)\n\u001b[0;32m    198\u001b[0m \u001b[1;33m\u001b[0m\u001b[0m\n",
      "\u001b[1;31mLinAlgError\u001b[0m: 1-dimensional array given. Array must be at least two-dimensional"
     ]
    }
   ],
   "source": [
    "\n",
    "N = int(input())\n",
    "A = numpy.array([map(float, input().split()) for i in range(N)])\n",
    "print(numpy.linalg.det(A))"
   ]
  },
  {
   "cell_type": "code",
   "execution_count": 38,
   "id": "1429907e",
   "metadata": {},
   "outputs": [
    {
     "name": "stdout",
     "output_type": "stream",
     "text": [
      "2\n",
      "1.1 1.1\n",
      "1.1 1.1\n",
      "0.0\n"
     ]
    }
   ],
   "source": [
    "n = int(input().strip())\n",
    "array = []\n",
    "for _ in range(n):\n",
    "    array.append([float(x) for x in input().strip().split(' ')])\n",
    "print(numpy.linalg.det(array))"
   ]
  }
 ],
 "metadata": {
  "kernelspec": {
   "display_name": "Python 3 (ipykernel)",
   "language": "python",
   "name": "python3"
  },
  "language_info": {
   "codemirror_mode": {
    "name": "ipython",
    "version": 3
   },
   "file_extension": ".py",
   "mimetype": "text/x-python",
   "name": "python",
   "nbconvert_exporter": "python",
   "pygments_lexer": "ipython3",
   "version": "3.9.7"
  }
 },
 "nbformat": 4,
 "nbformat_minor": 5
}
